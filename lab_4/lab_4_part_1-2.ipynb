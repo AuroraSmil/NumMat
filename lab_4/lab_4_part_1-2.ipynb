{
 "cells": [
  {
   "cell_type": "markdown",
   "metadata": {},
   "source": [
    "# Lab 4: Problem set on Newton-Cotes formulas"
   ]
  },
  {
   "cell_type": "code",
   "execution_count": null,
   "metadata": {},
   "outputs": [],
   "source": [
    "from IPython.core.display import HTML\n",
    "def css_styling():\n",
    "    styles = open(\"../styles/tma4215.css\", \"r\").read()\n",
    "    return HTML(styles)\n",
    "\n",
    "# Comment out next line and execute this cell to restore the default notebook style \n",
    "css_styling()\n"
   ]
  },
  {
   "cell_type": "markdown",
   "metadata": {},
   "source": [
    "Inserting my secret latex macros here ...\n",
    "$$\n",
    "\\DeclareMathOperator{\\Div}{div}\n",
    "\\DeclareMathOperator{\\Grad}{grad}\n",
    "\\DeclareMathOperator{\\Curl}{curl}\n",
    "\\DeclareMathOperator{\\Rot}{rot}\n",
    "\\DeclareMathOperator{\\ord}{ord}\n",
    "\\DeclareMathOperator{\\Kern}{ker}\n",
    "\\DeclareMathOperator{\\Image}{im}\n",
    "\\DeclareMathOperator{\\spann}{span}\n",
    "\\DeclareMathOperator{\\rank}{rank}\n",
    "\\DeclareMathOperator{\\dist}{dist}\n",
    "\\DeclareMathOperator{\\diam}{diam}\n",
    "\\DeclareMathOperator{\\sig}{sig}\n",
    "\\DeclareMathOperator{\\Id}{Id}\n",
    "\\DeclareMathOperator{\\CQR}{CQR}\n",
    "\\DeclareMathOperator{\\QR}{QR}\n",
    "\\DeclareMathOperator{\\TR}{TR}\n",
    "\\DeclareMathOperator{\\CTR}{CTR}\n",
    "\\DeclareMathOperator{\\SR}{SR}\n",
    "\\DeclareMathOperator{\\CSR}{CSR}\n",
    "\\DeclareMathOperator{\\NCR}{NCR}\n",
    "\\DeclareMathOperator{\\MR}{MR}\n",
    "\\newcommand{\\RR}{\\mathbb{R}}\n",
    "\\newcommand{\\NN}{\\mathbb{N}}\n",
    "\\newcommand{\\VV}{\\mathbb{V}}\n",
    "\\newcommand{\\dGamma}{\\,\\mathrm{d} \\Gamma}\n",
    "\\newcommand{\\dGammah}{\\,\\mathrm{d} \\Gamma_h}\n",
    "\\newcommand{\\dx}{\\,\\mathrm{d}x}\n",
    "\\newcommand{\\dy}{\\,\\mathrm{d}y}\n",
    "\\newcommand{\\ds}{\\,\\mathrm{d}s}\n",
    "\\newcommand{\\dt}{\\,\\mathrm{d}t}\n",
    "\\newcommand{\\dS}{\\,\\mathrm{d}S}\n",
    "\\newcommand{\\dV}{\\,\\mathrm{d}V}\n",
    "\\newcommand{\\dX}{\\,\\mathrm{d}X}\n",
    "\\newcommand{\\dY}{\\,\\mathrm{d}Y}\n",
    "\\newcommand{\\dE}{\\,\\mathrm{d}E}\n",
    "\\newcommand{\\dK}{\\,\\mathrm{d}K}\n",
    "\\newcommand{\\dM}{\\,\\mathrm{d}M}\n",
    "\\newcommand{\\cd}{\\mathrm{cd}}\n",
    "\\newcommand{\\onehalf}{\\frac{1}{2}}\n",
    "\\newcommand{\\bfP}{\\boldsymbol P}\n",
    "\\newcommand{\\bfx}{\\boldsymbol x}\n",
    "\\newcommand{\\bfy}{\\boldsymbol y}\n",
    "\\newcommand{\\bfa}{\\boldsymbol a}\n",
    "\\newcommand{\\bfu}{\\boldsymbol u}\n",
    "\\newcommand{\\bfv}{\\boldsymbol v}\n",
    "\\newcommand{\\bfe}{\\boldsymbol e}\n",
    "\\newcommand{\\bfb}{\\boldsymbol b}\n",
    "\\newcommand{\\bfc}{\\boldsymbol c}\n",
    "\\newcommand{\\bfq}{\\boldsymbol q}\n",
    "\\newcommand{\\bfy}{\\boldsymbol y}\n",
    "\\newcommand{\\bff}{\\boldsymbol f}\n",
    "\\newcommand{\\bfp}{\\boldsymbol p}\n",
    "\\newcommand{\\bft}{\\boldsymbol t}\n",
    "\\newcommand{\\bfj}{\\boldsymbol j}\n",
    "\\newcommand{\\bfB}{\\boldsymbol B}\n",
    "\\newcommand{\\bfV}{\\boldsymbol V}\n",
    "\\newcommand{\\bfE}{\\boldsymbol E}\n",
    "\\newcommand{\\bfB}{\\boldsymbol B}\n",
    "\\newcommand{\\bfzero}{\\boldsymbol 0}\n",
    "$$"
   ]
  },
  {
   "cell_type": "markdown",
   "metadata": {},
   "source": [
    "The main task of this problem set is the following: for a given interval $(a,b)$ and $n+1$ equally distributed nodes $x_i = a + i \\tfrac{(b-a)}{n}$\n",
    "for $i=0,\\ldots n$, tabulate the weights for the Newton-Cotes formula up to $n=14$.\n",
    "The problem boils down to 2 task, namely \n",
    "\n",
    "1. Defining the Lagrange polynomials $L_{in}$ for $i=0, \\ldots, n$\n",
    "2. Computing the weights $w_i = \\int_a^b L_{in}(x) \\dx$\n",
    "\n",
    "__Before you start:__ For the implementation of the task, we recommend to use the [sympy](https://docs.sympy.org/latest/index.html#) python module  for symbolic mathematics to perform tasks such as (symbolic) integration.\n",
    "Spend some time to browse  through the  [sympy tutorial](https://docs.sympy.org/latest/tutorial/index.html) and the [help on symbolic integration](https://docs.sympy.org/latest/modules/integrals/integrals.html). Using ```sympy```__Before you start:__ For the implementation of the task, we recommend to use the [sympy](https://docs.sympy.org/latest/index.html#) python module  for symbolic mathematics to perform tasks such as (symbolic) integration.\n",
    "Spend some time to browse  through the  [sympy tutorial](https://docs.sympy.org/latest/tutorial/index.html) and the [help on symbolic integration](https://docs.sympy.org/latest/modules/integrals/integrals.html). Using ```sympy``` you can for instance do something like this for $n=2$:\n"
   ]
  },
  {
   "cell_type": "code",
   "execution_count": null,
   "metadata": {},
   "outputs": [],
   "source": [
    "# import symbol x from sympy so that you can define symbolic functions of x\n",
    "from sympy.abc import x\n",
    "# import symbolic integration\n",
    "from sympy import integrate \n",
    "import numpy as np\n",
    "from functools import reduce\n",
    "from sympy.utilities.lambdify import lambdify\n",
    "import matplotlib.pyplot as plt\n",
    "\n",
    "\n",
    "# Define\n",
    "a, b = 0, 1 \n",
    "xqs = np.linspace(a,b,3)\n",
    "# Define L_02 (not normalized)\n",
    "L_02 = (x-xqs[1])*(x-xqs[2])\n",
    "# Normalize it to satisfy l_02(x_0) = 1\n",
    "L_02 = L_02/L_02.subs(x,xqs[0])\n",
    "\n",
    "# Now integrate L_02 to compute the first weight\n",
    "w_0 = integrate(L_02, (x, a, b))\n",
    "print(\"w0 = {}\".format(w_0))"
   ]
  },
  {
   "cell_type": "markdown",
   "metadata": {},
   "source": [
    "Of course, \n",
    "since you are asked to do comupute all $n+1$ weights  $n=1,\\ldots,14$,\n",
    "you need to automatize the construction of the corresponding Lagrange polynoms.\n",
    "So proceed as follows\n"
   ]
  },
  {
   "cell_type": "markdown",
   "metadata": {},
   "source": [
    "__a__) Write  a python function ```lagrange_polys``` which takes a list of $n+1$ quadrature points\n",
    "and returns a list of the corresponding $n+1$ Lagrange polynoms $\\{L_{in}\\}_{i=0}^n$\n",
    "defined a symbolic function using ```sympy```:"
   ]
  },
  {
   "cell_type": "code",
   "execution_count": null,
   "metadata": {},
   "outputs": [],
   "source": [
    "import sympy as sp\n",
    "\n",
    "def lagrange_polys(xqs):\n",
    "    n = len(xqs)\n",
    "    Ls = []\n",
    "\n",
    "    for i in range(n):\n",
    "        L_i = sp.prod((x - xqs[j]) for j in range(n) if j != i)\n",
    "\n",
    "        # normalize:\n",
    "        L_i = L_i / L_i.subs(x, xqs[i])\n",
    "        Ls.append(L_i)\n",
    "\n",
    "    return Ls"
   ]
  },
  {
   "cell_type": "markdown",
   "metadata": {},
   "source": [
    "\n",
    "__b__) Now the easy part! Employ your brand new ```def lagrange_polys``` function and implement a python function which takes as argument the desired degree of exactness $n$ and the interval end points\n",
    "$a,b$ and returns a list of quadrature points $\\{x_i\\}_{i=0}^n$ and quadrature weights $\\{w_i\\}_{i=0}^n$:"
   ]
  },
  {
   "cell_type": "code",
   "execution_count": null,
   "metadata": {},
   "outputs": [],
   "source": [
    "def newton_cotes_formula(n, a, b):\n",
    "    xqs = np.linspace(a,b,n+1)\n",
    "    \n",
    "    Ls = lagrange_polys(xqs)\n",
    "    ws =[]\n",
    "    \n",
    "    for i in range(n+1):\n",
    "        w_i = integrate(Ls[i], (x, a, b))\n",
    "        ws.append(w_i)\n",
    "    return (xqs, ws)"
   ]
  },
  {
   "cell_type": "markdown",
   "metadata": {},
   "source": [
    "__c__) Before you tabulate the quadrature weights with you newly implemented function, make sure that you implement them correctly. More, specifically, check for $n=1,\\ldots 14$\n",
    "that the computed Newton-Cotes formula integrates polynomials up to order $n$ __exactly__.\n",
    "\n",
    "For $n$ is even, check that the corresponding Newton-Cotes rules even integrate polynomials up to order $n+1$  exactly (and not only up to $n$).\n",
    "\n",
    "Note:  Due to floating point related errors and some numerical instabilities when computing\n",
    "higher order Lagrange polynomials and integrals, the difference between the exact integral \n",
    "and the numerically error won't be 0, but around the machine precision for $n=1,2$ and then\n",
    "for each increase of the order $n$ you will roughly loose of significant digit in\n",
    "the difference between the two.\n",
    "\n",
    "It might be useful to implement a little function ```qr``` first,\n",
    "which takes $f$, $\\{x_i\\}_{i=0}^n$ and $\\{w_i\\}_{i=0}^n$ and\n",
    "applies the corresponding quadrature to compute $\\int_a^b f\\dx$ numerically.\n"
   ]
  },
  {
   "cell_type": "code",
   "execution_count": null,
   "metadata": {},
   "outputs": [],
   "source": [
    "def qr(f, xqs, ws):\n",
    "    n = len(xqs)\n",
    "    qr_f = np.sum(ws * f(xqs))\n",
    "    return qr_f\n",
    "\n",
    "\n",
    "def newton_cotes_rule(f_sp, a, b, n):\n",
    "    \"\"\" f_sp: sympy exp\"\"\"\n",
    "    f_np = lambdify(x, f_sp, \"numpy\")\n",
    "    xqs, ws = newton_cotes_formula(n, a, b)\n",
    "    return qr(f_np, xqs, ws)\n",
    "    "
   ]
  },
  {
   "cell_type": "code",
   "execution_count": null,
   "metadata": {},
   "outputs": [],
   "source": [
    "mono = lambda x,m: x**m\n",
    "print(mono(x,2))\n",
    "\n",
    "a, b = 0, 1\n",
    "\n",
    "\n",
    "for n in range(1,15):\n",
    "    f_sp = mono(x, n)\n",
    "    res = newton_cotes_rule(f_sp, a, b, n)\n",
    "    print(\"numeric: \", res)\n",
    "    print(\"analytic: \", float(integrate(f_sp, (x, a, b))))\n",
    "    "
   ]
  },
  {
   "cell_type": "markdown",
   "metadata": {},
   "source": [
    "__d__) Tabulate the quadrature weights for the Newton-Cotes rule for $n=1,\\ldots 14$. For which $n$  should you\n",
    "refrain from using the resulting quadrature rule (and why?)"
   ]
  },
  {
   "cell_type": "code",
   "execution_count": null,
   "metadata": {},
   "outputs": [],
   "source": [
    "import matplotlib.pyplot as plt\n",
    "\n",
    "a, b = 0, 1\n",
    "fig, ax = plt.subplots()\n",
    "for n in range(1,15):\n",
    "    xqs, ws = newton_cotes_formula(n, a, b)\n",
    "    ws = [str(w)[:5] for w in ws]\n",
    "    print(f\"{n:2g} |\", \" |\".join(ws))\n",
    "    if n < 8:\n",
    "        print(len(xqs), len(ws))\n",
    "        ax.plot(xqs, ws)\n",
    "\n",
    "plt.show()\n",
    "del fig, ax\n"
   ]
  },
  {
   "cell_type": "markdown",
   "metadata": {},
   "source": [
    "VEKTER SKAL IKKE VÆRE NEGATIVE.\n",
    "FIX PLOT"
   ]
  },
  {
   "cell_type": "markdown",
   "metadata": {},
   "source": [
    "__e__) Finally, since we have all the nice machinery in place, we take a little extra-tour\n",
    "and investigate the convergence of the Newton-Cotes rules for $n\\to \\infty$.\n",
    "\n",
    "More precisely, compute for $f(x) = \\cos(x)$ the integral $\\int_{-4}^{5} f(x) \\dx $ first analytically \n",
    "and then numerically using the Newton-Cotes rules for $n=1,\\ldots, 14$ and tabulate\n",
    "the quadrature error $E_n(f) = \\int_{-4}^{5} \\cos(x)\\dx - \\NCR(\\cos, n)$.\n",
    "\n",
    "Finally, repeat the same experiment for for $f(x) = \\tfrac{1}{1+x^2}$."
   ]
  },
  {
   "cell_type": "code",
   "execution_count": null,
   "metadata": {},
   "outputs": [],
   "source": []
  }
 ],
 "metadata": {
  "file_extension": ".py",
  "kernelspec": {
   "display_name": "Python 3",
   "language": "python",
   "name": "python3"
  },
  "language_info": {
   "codemirror_mode": {
    "name": "ipython",
    "version": 3
   },
   "file_extension": ".py",
   "mimetype": "text/x-python",
   "name": "python",
   "nbconvert_exporter": "python",
   "pygments_lexer": "ipython3",
   "version": "3.6.4"
  },
  "mimetype": "text/x-python",
  "name": "python",
  "npconvert_exporter": "python",
  "pygments_lexer": "ipython3",
  "version": 3
 },
 "nbformat": 4,
 "nbformat_minor": 2
}
