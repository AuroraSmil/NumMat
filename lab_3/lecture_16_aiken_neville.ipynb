{
 "cells": [
  {
   "cell_type": "markdown",
   "metadata": {},
   "source": [
    "# Lecture 16: Problem Set"
   ]
  },
  {
   "cell_type": "markdown",
   "metadata": {},
   "source": [
    "##### Please note:\n",
    "\n",
    "This problem, while given in Lecture 16, is also part of Lab 3, so don't\n",
    "forget it when you submit the solutions to Lab 3."
   ]
  },
  {
   "cell_type": "markdown",
   "metadata": {},
   "source": [
    "                                                                                                                                                                                                                                                                                                                                                                                                                                                                                                                                                                                                                                                                                                                                                                                                                                                                                                                                                                                                                                                                                                                                                                                                                        <from IPython.core.display import HTML\n",
    "def css_styling():\n",
    "    styles = open(\"../styles/tma4215.css\", \"r\").read()\n",
    "    return HTML(styles)\n",
    "\n",
    "# Comment out next line and execute this cell to restore the default notebook style \n",
    "css_styling()"
   ]
  },
  {
   "cell_type": "markdown",
   "metadata": {},
   "source": [
    "$$\n",
    "\\DeclareMathOperator{\\Div}{div}\n",
    "\\DeclareMathOperator{\\Grad}{grad}\n",
    "\\DeclareMathOperator{\\Curl}{curl}\n",
    "\\DeclareMathOperator{\\Rot}{rot}\n",
    "\\DeclareMathOperator{\\ord}{ord}\n",
    "\\DeclareMathOperator{\\Kern}{ker}\n",
    "\\DeclareMathOperator{\\Image}{im}\n",
    "\\DeclareMathOperator{\\spann}{span}\n",
    "\\DeclareMathOperator{\\rank}{rank}\n",
    "\\DeclareMathOperator{\\dist}{dist}\n",
    "\\DeclareMathOperator{\\diam}{diam}\n",
    "\\DeclareMathOperator{\\sig}{sig}\n",
    "\\DeclareMathOperator{\\Id}{Id}\n",
    "\\newcommand{\\RR}{\\mathbb{R}}\n",
    "\\newcommand{\\NN}{\\mathbb{N}}\n",
    "\\newcommand{\\VV}{\\mathbb{V}}\n",
    "\\newcommand{\\dGamma}{\\,\\mathrm{d} \\Gamma}\n",
    "\\newcommand{\\dGammah}{\\,\\mathrm{d} \\Gamma_h}\n",
    "\\newcommand{\\dx}{\\,\\mathrm{d}x}\n",
    "\\newcommand{\\dy}{\\,\\mathrm{d}y}\n",
    "\\newcommand{\\ds}{\\,\\mathrm{d}s}\n",
    "\\newcommand{\\dt}{\\,\\mathrm{d}t}\n",
    "\\newcommand{\\dS}{\\,\\mathrm{d}S}\n",
    "\\newcommand{\\dV}{\\,\\mathrm{d}V}\n",
    "\\newcommand{\\dX}{\\,\\mathrm{d}X}\n",
    "\\newcommand{\\dY}{\\,\\mathrm{d}Y}\n",
    "\\newcommand{\\dE}{\\,\\mathrm{d}E}\n",
    "\\newcommand{\\dK}{\\,\\mathrm{d}K}\n",
    "\\newcommand{\\dM}{\\,\\mathrm{d}M}\n",
    "\\newcommand{\\cd}{\\mathrm{cd}}\n",
    "\\newcommand{\\onehalf}{\\frac{1}{2}}\n",
    "\\newcommand{\\bfP}{\\boldsymbol P}\n",
    "\\newcommand{\\bfx}{\\boldsymbol x}\n",
    "\\newcommand{\\bfy}{\\boldsymbol y}\n",
    "\\newcommand{\\bfa}{\\boldsymbol a}\n",
    "\\newcommand{\\bfu}{\\boldsymbol u}\n",
    "\\newcommand{\\bfv}{\\boldsymbol v}\n",
    "\\newcommand{\\bfe}{\\boldsymbol e}\n",
    "\\newcommand{\\bfb}{\\boldsymbol b}\n",
    "\\newcommand{\\bfc}{\\boldsymbol c}\n",
    "\\newcommand{\\bfq}{\\boldsymbol q}\n",
    "\\newcommand{\\bfy}{\\boldsymbol y}\n",
    "\\newcommand{\\bff}{\\boldsymbol f}\n",
    "\\newcommand{\\bfp}{\\boldsymbol p}\n",
    "\\newcommand{\\bft}{\\boldsymbol t}\n",
    "\\newcommand{\\bfj}{\\boldsymbol j}\n",
    "\\newcommand{\\bfB}{\\boldsymbol B}\n",
    "\\newcommand{\\bfV}{\\boldsymbol V}\n",
    "\\newcommand{\\bfE}{\\boldsymbol E}\n",
    "\\newcommand{\\bfB}{\\boldsymbol B}\n",
    "\\newcommand{\\bfzero}{\\boldsymbol 0}\n",
    "$$"
   ]
  },
  {
   "cell_type": "markdown",
   "metadata": {},
   "source": [
    "## Exercise 1"
   ]
  },
  {
   "cell_type": "markdown",
   "metadata": {},
   "source": [
    "For the interpolationspolynom $P(f|x_0, \\ldots, x_n)$, prove the following recursion formlua:\n",
    "\n",
    "\\begin{align}\n",
    "P(f|x_0, \\ldots, x_n)(x) =\n",
    "\\dfrac{(x_0 - x)P(f|x_1, \\ldots, x_n)(x) - (x_n - x)P(f|x_0, \\ldots, x_{n-1})(x)}\n",
    "{x_0 - x_n}\n",
    "\\end{align}"
   ]
  },
  {
   "cell_type": "markdown",
   "metadata": {},
   "source": [
    "__Hint__: Show that the expression on the right hand side is a polynom $\\tilde{P}$ of order $n$\n",
    "which satfisfies the interpolation conditions $\\tilde{P}(x_i) = f(x_i)$ for $i=0,\\ldots n$. \n",
    "Why does that prove the recursion formula?"
   ]
  },
  {
   "cell_type": "markdown",
   "metadata": {},
   "source": [
    "\n",
    "    \n",
    "   If one can prove that the right hand side is of order $n$ and the interpolation condition is satisfied then one knows that the polynomial interpolates all $n$ points for every $n$ and hence the recurtion formula must be valid. \n",
    "\n",
    "\n",
    "\n",
    "*Base case:*\n",
    "$$\n",
    "P(f|x_0) (x) = \\sum_{i=0}^{n} \\quad f[x_0] = f(x_0) \n",
    "$$\n",
    "deg = 0\n",
    "\n",
    "*Induction case:*\n",
    "\n",
    "Assume $P(f|x_0,..,x_{n-1})$ has order $n-1$ and interpolates $n-1$ nodes.\n",
    "\n",
    "$$\n",
    "P(f|x_0,..,x_{n})(x) = \\frac{(x_0-x)P(f|x_1,...,x_n)(x)- (x_n-x)P(f|x_0,...,x_{n-1})(x)}{x_0-x_n} = \\frac{(x_0-x)P(f|x_1,...,x_n)(x)}{x_0-x_n}-\\frac{(x_n-x)P(f|x_0,...,x_{n-1})(x)}{x_0-x_n}\n",
    "$$    \n",
    "\n",
    "Which by assumption is the sum of to elements of order $1+(n-1) = n$\n",
    "\n",
    "Now we want to check the interpolation condition: \n",
    "\n",
    "We will splitt this in three cases x = x_0, x = x_i (i = 1,..,n-1) and x = x_n.\n",
    "\n",
    "x = x_0:\n",
    "$$    \n",
    "P(f|x_0,..,x_{n})(x_0) = \\frac{(x_0-x_0)P(f|x_1,...,x_n)(x_0)- (x_n-x_0)P(f|x_0,...,x_{n-1})(x_0)}{x_0-x_n}=\\frac{(x_n-x_0)P(f|x_0,...,x_{n-1})(x_0)}{x_0-x_n} = P(f|x_0,...,x_{n-1})(x_0) = f(x_0),\n",
    "$$\n",
    "\n",
    "by assumption. \n",
    "\n",
    "x = x_i:\n",
    "\n",
    "$$\n",
    "P(f|x_0,..,x_{n})(x_i) = \\frac{(x_0-x_i)P(f|x_1,...,x_n)(x_i)- (x_n-x_i)P(f|x_0,...,x_{n-1})(x_i)}{x_0-x_n} = \\frac{(x_0-x_i)f(x_i) - (x_n-x_i)f(x_i}{x_0-x_n} = f(x_i)\n",
    "$$\n",
    "    \n",
    "x = x_n:\n",
    "\n",
    "$$\n",
    "(f|x_0,..,x_{n})(x_n) = \\frac{(x_0-x_n)P(f|x_1,...,x_n)(x_n)- (x_n-x_n)P(f|x_0,...,x_{n-1})(x_n)}{x_0-x_n}=\\frac{(x_0-x_n)P(f|x_1,...,x_n)(x_n)}{x_0-x_n} = f(x_n)$\n",
    "$$\n",
    "\n",
    "    \n",
    "\n"
   ]
  },
  {
   "cell_type": "markdown",
   "metadata": {},
   "source": [
    "## Exercise 2 (The Aiken-Neville Algorithm)\n",
    "\n",
    "__a)__ Define the polynom $P_{ik}$ by\n",
    "$$\n",
    "P_{ik}(x) := P(f|x_{i-k}, \\ldots,x_i)(x) \\quad \\text{for } i \\geqslant k. \n",
    "$$\n",
    "Then it follows from (1) that the value of $P_{nn} = P(f|x_0, \\ldots, x_n)$ at some given point $x$\n",
    "can be computed recursively as follows\n",
    "\\begin{alignat}{3}\n",
    "P_{i0}(x) &= f_i \\quad &&\\text{for } i = 0,\\ldots, n,\n",
    "\\\\\n",
    "P_{ik}(x) &= P_{i,k-1} + \\dfrac{x - x_i}{x_i - x_{i-k}}(P_{i,k-1}(x) - P_{i-1,k-1}(x))\n",
    "\\quad && \\text{for } i \\geqslant k.\n",
    "\\end{alignat}\n",
    "\n",
    "**Before you procede**, convince yourself that Equation (2) is just an application of the Equation (1) in Exercise 1 to $P(f|x_{i-k}, \\ldots,x_i)(x)$.\n",
    "\n",
    "This leads to the Aiken-Neville scheme (leaving out the function argument $x$):\n",
    "\n",
    "\\begin{equation}\n",
    "\\begin{matrix}\n",
    "P_{00} & & & & & & \n",
    "\\\\\n",
    "& \\searrow &&&&&\n",
    "\\\\\n",
    "P_{10} & \\rightarrow & P_{11} & & & &\n",
    "\\\\\n",
    "\\vdots & & & \\ddots & & &\n",
    "\\\\\n",
    "P_{n-1,0}& \\rightarrow & \\ldots & \\rightarrow & P_{n-1,n-1} & \\searrow &\n",
    "\\\\\n",
    "P_{n,0}& \\rightarrow & \\ldots & \\rightarrow & P_{n-1,n-1} & \\rightarrow & P_{nn}\n",
    "\\end{matrix}\n",
    "\\end{equation}\n",
    "\n",
    "Based on this recursion, implement an ```aiken_neville``` function \n",
    "which takes in a function ```f```, a list of nodal points ```x_nodes``` \n",
    "and a value ```x``` and returns the value $P(f|x_0, \\ldots, x_n)(x)$."
   ]
  },
  {
   "cell_type": "code",
   "execution_count": 1,
   "metadata": {},
   "outputs": [
    {
     "name": "stdout",
     "output_type": "stream",
     "text": [
      "0.882947565950376\n",
      "0.8829475928589269\n"
     ]
    }
   ],
   "source": [
    "\n",
    "import numpy as np\n",
    "\n",
    "def aiken_neville(f, x_nodes, x):\n",
    "    n = len(x_nodes)\n",
    "    P = np.zeros((n,n))\n",
    "\n",
    "    for i in range(n):\n",
    "        P[i,0] = f(x_nodes[i])\n",
    "\n",
    "    for k in range(1,n):\n",
    "        for j in range(k, n):\n",
    "            p_temp = P[j, k-1] + ((x-x_nodes[j])/(x_nodes[j]-x_nodes[j-k]))*(P[j, k-1]-P[j-1,k-1])\n",
    "            P[j,k] = p_temp\n",
    "\n",
    "    px = P[n-1,n-1]\n",
    "\n",
    "    return px\n",
    "\n",
    "def sinus(x):\n",
    "    rad = x/360 *2*np.pi\n",
    "    return np.sin(rad)\n",
    "\n",
    "x_nodes = [50,55,60,65,70]\n",
    "\n",
    "print(aiken_neville(sinus, x_nodes, 62))\n",
    "print(np.sin((62/360)*np.pi*2))\n"
   ]
  },
  {
   "cell_type": "markdown",
   "metadata": {},
   "source": [
    "__b)__ Now use this function to compute an approximation of $\\sin(62^{\\circ})$\n",
    "based on the data points \n",
    "$(50^{\\circ},\\sin(50^{\\circ})),\n",
    "(55^{\\circ},\\sin(55^{\\circ})),\n",
    "(60^{\\circ},\\sin(60^{\\circ})),\n",
    "\\ldots,\n",
    "(60^{\\circ},\\sin(70^{\\circ}))$."
   ]
  }
 ],
 "metadata": {
  "kernelspec": {
   "display_name": "Python 3",
   "language": "python",
   "name": "python3"
  },
  "language_info": {
   "codemirror_mode": {
    "name": "ipython",
    "version": 3
   },
   "file_extension": ".py",
   "mimetype": "text/x-python",
   "name": "python",
   "nbconvert_exporter": "python",
   "pygments_lexer": "ipython3",
   "version": "3.6.3"
  }
 },
 "nbformat": 4,
 "nbformat_minor": 2
}
