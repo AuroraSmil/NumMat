{
 "cells": [
  {
   "cell_type": "code",
   "execution_count": null,
   "metadata": {},
   "outputs": [],
   "source": [
    "from IPython.core.display import HTML\n",
    "def css_styling():\n",
    "    styles = open(\"../styles/tma4215.css\", \"r\").read()\n",
    "    return HTML(styles)\n",
    "\n",
    "# Comment out next line and execute this cell to restore the default notebook style \n",
    "css_styling()"
   ]
  },
  {
   "cell_type": "code",
   "execution_count": null,
   "metadata": {
    "collapsed": true
   },
   "outputs": [],
   "source": [
    "import numpy as np\n",
    "import scipy.interpolate as ip\n",
    "import matplotlib.pyplot as plt"
   ]
  },
  {
   "cell_type": "markdown",
   "metadata": {},
   "source": [
    "## Problem 2\n",
    "\n",
    "In this problem, you are asked to estimate the Lebesgue constant for function interpolation. Given a set of nodes $x_0,\\ldots x_n\\in[a,b]$, the Lebesgue constant $\\Lambda_n$ is defined as \n",
    "\n",
    "$$ \\Lambda_n := \\max_{x\\in[a,b]} L(x) $$\n",
    "\n",
    "where\n",
    "\n",
    "$$ L(x) = \\sum_{i=1}^n |L_{i,n}(x)|. $$\n",
    "\n",
    "Here, $L_{i,n}(x)$ is the Lagrange polynomial number $i$, given by\n",
    "\n",
    "$$ L_{i,n}(x) = \\prod_{j\\neq i} \\frac{x-x_j}{x_i-x_j}. $$\n",
    "\n",
    "Using the Lebesgue constant, we can obtain an upper bound for the interpolation error relative to the best interpolation error. Assume that $p$ is some interpolating polynomial and $p^\\ast$ is the best interpolating polynomial. Then we have that\n",
    "\n",
    "$$ \\|p-f\\| \\leq (\\Lambda_n+1) \\|p^\\ast-f\\|. $$\n",
    "\n",
    "Note that this holds for every norm $\\|\\cdot\\|$."
   ]
  },
  {
   "cell_type": "markdown",
   "metadata": {},
   "source": [
    "**a)**\n",
    "\n",
    "Write a function which computes $L(x)$, given a set of nodes $x_0,\\ldots x_n$."
   ]
  },
  {
   "cell_type": "code",
   "execution_count": null,
   "metadata": {},
   "outputs": [],
   "source": [
    "def L(x, x_nodes):\n",
    "    summ = 0\n",
    "    n = len(x_nodes)\n",
    "    for i in range(n):\n",
    "        prod = 1\n",
    "        for j in range(n):\n",
    "            if j==i:\n",
    "                continue\n",
    "            prod *= (x-x_nodes[j])/(x_nodes[i]-x_nodes[j])\n",
    "        summ += abs(prod)\n",
    "    return summ\n",
    "\n",
    "x_nodes = [1,2,3,4]\n",
    "x = np.linspace(1,4,1000)\n",
    "y=L(x, x_nodes)\n",
    "\n",
    "plt.plot(x, y)\n",
    "plt.show()"
   ]
  },
  {
   "cell_type": "markdown",
   "metadata": {},
   "source": [
    "We want to estimate $\\Lambda_n$ for nodes on the interval $[-1,1]$. Spesifically we want to consider\n",
    "\n",
    "- Uniformly distributed nodes:  $x_i = -1+2i/n, \\ i=0,\\ldots n$\n",
    "- Chebyshev nodes: $x_i = \\cos\\left(\\pi\\frac{2i+1}{2n+2}\\right), \\ i=0,\\ldots n$\n",
    "\n",
    "\n",
    "**b)**\n",
    "\n",
    "Plot $L(x)$ for $x\\in[-1,1]$ and give an estimate for $\\Lambda_n$ for $n=5,10,15,20$ for using \n",
    "\n",
    "- Uniformly distributed nodes.\n",
    "- Chebyshev nodes.\n",
    "\n",
    "What do you observe? Do you expect uniformly distributed nodes or Chebyshev nodes to give a better interpolating polynomial?\n",
    "\n",
    "*Hint: When estimating $\\Lambda_n$, you can construct a very fine grid of values of $x$'s, compute $L(x)$ for each $x$ and find the maximum of all values of $L(x)$.* \n",
    "\n",
    "*If you prefer, you may use the following template:*"
   ]
  },
  {
   "cell_type": "code",
   "execution_count": null,
   "metadata": {},
   "outputs": [],
   "source": [
    "# Compute a fine grid of x's:\n",
    "x_vec = np.linspace(-1,1,10000)\n",
    "\n",
    "def cheb_nodes(n):\n",
    "    nodes = np.zeros(n+1)\n",
    "    for i in range(n+1):\n",
    "        nodes[i] = np.cos(np.pi*(2*i+1)/(2*n+2))\n",
    "    return nodes\n",
    "\n",
    "def unif_dist_nodes(n):\n",
    "    nodes = np.zeros(n+1)\n",
    "    for i in range(n+1):\n",
    "        nodes[i] = -1 + 2*i/n\n",
    "    return nodes\n",
    "\n",
    "n = [5,10,15,20]\n",
    "max_unif = []\n",
    "max_cheb = []\n",
    "\n",
    "for i in n:\n",
    "    max_unif.append(max(L(x_vec, unif_dist_nodes(i))))\n",
    "    max_cheb.append(max(L(x_vec, cheb_nodes(i))))\n",
    "\n",
    "print(\"Lamda_n for uniform distributed nodes\",max_unif)\n",
    "print(\"Lamda_n for chebychev nodes\", max_cheb)\n",
    "\n",
    "\n",
    "# Construct a placeholder for the values of L(x)\n",
    "plt.figure()\n",
    "L_vec_unif = L(x_vec, unif_dist_nodes(5))\n",
    "L_vec_cheb = L(x_vec, cheb_nodes(5))\n",
    "plt.plot(x_vec, L_vec_unif)\n",
    "plt.plot(x_vec, L_vec_cheb)\n",
    "plt.show()\n",
    "\n",
    "plt.figure()\n",
    "L_vec_unif = L(x_vec, unif_dist_nodes(10))\n",
    "L_vec_cheb = L(x_vec, cheb_nodes(10))\n",
    "plt.plot(x_vec, L_vec_unif)\n",
    "plt.plot(x_vec, L_vec_cheb)\n",
    "plt.show()\n",
    "\n",
    "plt.figure()\n",
    "L_vec_unif = L(x_vec, unif_dist_nodes(15))\n",
    "L_vec_cheb = L(x_vec, cheb_nodes(15))\n",
    "plt.plot(x_vec, L_vec_unif)\n",
    "plt.plot(x_vec, L_vec_cheb)\n",
    "plt.show()\n",
    "\n",
    "plt.figure()\n",
    "L_vec_unif = L(x_vec, unif_dist_nodes(20))\n",
    "L_vec_cheb = L(x_vec, cheb_nodes(20))\n",
    "plt.plot(x_vec, L_vec_unif)\n",
    "plt.plot(x_vec, L_vec_cheb)\n",
    "plt.show()\n",
    "\n",
    "\n",
    "# Compute L(x) for all x in x_vec and store the values of L in L_vec.\n",
    "# For example: L_vec[i] = L(x_vec[i], x_nodes)\n",
    "# ...\n",
    "\n",
    "\n",
    "# Lambda_n_estimate will now approximate the true value of Chebyshev's constant\n",
    "Lambda_n_estimate_unif = np.max(L_vec_unif)\n",
    "Lambda_n_estimate_unif = np.max(L_vec_cheb)"
   ]
  },
  {
   "cell_type": "markdown",
   "metadata": {},
   "source": [
    "<font color ='blue'>\n",
    "    The interpolation is a lot better for chebyscev nodes which is also expected after computing $\\Lambda_n$ for the different nodes. One can see that the $\\Lambda_n$ is much higher for the unifor distributed nodes that for the chebychev nodes. \n",
    "    \n",
    "</font>"
   ]
  }
 ],
 "metadata": {
  "kernelspec": {
   "display_name": "Python 3",
   "language": "python",
   "name": "python3"
  },
  "language_info": {
   "codemirror_mode": {
    "name": "ipython",
    "version": 3
   },
   "file_extension": ".py",
   "mimetype": "text/x-python",
   "name": "python",
   "nbconvert_exporter": "python",
   "pygments_lexer": "ipython3",
   "version": "3.5.2"
  }
 },
 "nbformat": 4,
 "nbformat_minor": 2
}
