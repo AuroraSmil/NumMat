{
 "cells": [
  {
   "cell_type": "markdown",
   "metadata": {},
   "source": [
    "# Lab 2:  Problem 2"
   ]
  },
  {
   "cell_type": "code",
   "execution_count": null,
   "metadata": {},
   "outputs": [],
   "source": [
    "from IPython.core.display import HTML\n",
    "def css_styling():\n",
    "    styles = open(\"../styles/tma4215.css\", \"r\").read()\n",
    "    return HTML(styles)\n",
    "\n",
    "# Comment out next line and execute this cell to restore the default notebook style \n",
    "css_styling()"
   ]
  },
  {
   "cell_type": "code",
   "execution_count": null,
   "metadata": {},
   "outputs": [],
   "source": [
    "import numpy as np\n",
    "import matplotlib.pyplot as plt\n",
    "\n",
    "f = lambda x: np.cos(0.5*np.pi*x)+1\n",
    "f(1)"
   ]
  },
  {
   "cell_type": "markdown",
   "metadata": {},
   "source": [
    "We want to solve the fixed point system $x = f(x)$ where $f(x) = \\cos(0.5\\pi x)+1$, using a fixed point iteration. Verify that $x=1$ is a solution to this fixed point system. "
   ]
  },
  {
   "cell_type": "markdown",
   "metadata": {},
   "source": [
    "**a)** Explain (with less than three sentences) why $[0,2]$ is a natural choice of a domain for a fixed point iteration for solving $x = f(x)$. "
   ]
  },
  {
   "cell_type": "markdown",
   "metadata": {},
   "source": [
    "<font color='blue'>\n",
    "    \n",
    "   Solution: f(0) = 1+1 = 2  f(2) = -1 +1  = 0 meaning that the domain is now of equal sice to the codomain and has the same values. Since f is continous it has to take al values between the max and the min value meaning it is a natural choise for the fixed point iteratino. \n",
    "\n",
    "</font>"
   ]
  },
  {
   "cell_type": "markdown",
   "metadata": {},
   "source": [
    "**b)** Fixed point iterations. Write a function which runs a fixed point iteration for $f$ and returns the sequence of iterations $[x_0, x_1, x_2, \\ldots, x_n]$. Using initial point $x_0 = 0.1$, plot the evolution of the error as a function of the number of iterations. Does the iteration seem to converge?"
   ]
  },
  {
   "cell_type": "code",
   "execution_count": null,
   "metadata": {},
   "outputs": [],
   "source": [
    "# In python you can create functions using the lambda function.\n",
    "# For example: with the following decleration, f is now a function for which f(x) evaluates sin(x)\n",
    "# f = lambda x: np.sin(x)\n",
    "\n",
    "\n",
    "def banach_fp(f, x_0, n_max ):\n",
    "    num_iter = 0\n",
    " \n",
    "    xs = []  # Collect the computed midpoints\n",
    "    fxs = [] # Collect corresponding function values\n",
    "    errs =[]\n",
    "    x = x_0\n",
    "    while (num_iter <= n_max):\n",
    "        xs.append(x)\n",
    "        fxs.append(f(x))\n",
    "        x_temp = f(x)\n",
    "        err = abs(x-x_temp)\n",
    "        errs.append(err)\n",
    "        x = x_temp\n",
    "        num_iter += 1\n",
    "        \n",
    "        \n",
    "    return (xs, fxs, errs) \n",
    "\n",
    "xs, fxs, errs = banach_fp(f, 0.1, 20)\n",
    "\n",
    "itter = np.arange(0,21,1)\n",
    "\n",
    "plt.figure()\n",
    "plt.scatter(itter, errs)\n",
    "plt.show()\n",
    "\n",
    "    # f: the function for which to solve x=f(x)\n",
    "    # x0: initial value\n",
    "    # n: number of iterations\n",
    "    \n",
    "    # your code here\n",
    "    \n",
    "\n",
    "# The banac_fp function is called in the following way:\n",
    "# x = banach_fp(f, x0, n, p)"
   ]
  },
  {
   "cell_type": "markdown",
   "metadata": {},
   "source": [
    "<font color='blue'>\n",
    "    \n",
    "   Your comments here: \n",
    "  \n",
    "   As we can see, the error quickly grows to $2$, and stays there steadily throughout the sequence. The method does not converge for this function, and can therefore not be used to find a solution. \n",
    "\n",
    "</font>"
   ]
  },
  {
   "cell_type": "markdown",
   "metadata": {},
   "source": [
    "As you hopefully observed in the previous subproblem, not all fixed point iterations will converge. However, we can in some cases modify the fixed point iteration such that it converges. If we for example add some constant or variable to both sides, the solution does not change. Therefore, let $p$ be some parameter, and add $px$ to both sides of our system to obtain\n",
    "\n",
    "$$ x + px = \\cos(0.5\\pi x) + 1 + px $$\n",
    "\n",
    "Verify for yourselves that this can be rewritten into\n",
    "\n",
    "$$ x = \\frac{1}{1+p} \\big( \\cos(0.5\\pi x) + 1 + px \\big) =: g(x) $$\n",
    "\n",
    "We will in the following assume $p\\geq0$."
   ]
  },
  {
   "cell_type": "markdown",
   "metadata": {},
   "source": [
    "**b)** Modify your code to run the fixed point iteration to run $x_{n+1} = g(x_n)$. Test different values of $0\\leq p\\leq 2$. Which values of $p$ seem to give convergence?\n",
    "\n",
    "*Hint*: If you followed the template above, you can reuse the banach_fp function and just change the function $f$."
   ]
  },
  {
   "cell_type": "code",
   "execution_count": null,
   "metadata": {},
   "outputs": [],
   "source": [
    "def banach_fp_modified(f, x_0, n_max ,p):\n",
    "    \n",
    "    \n",
    "    g = lambda x: (1/(1+p)*(f(x)+p*x))\n",
    "    num_iter = 0\n",
    " \n",
    "    xs = []  # Collect the computed midpoints\n",
    "    gxs = [] # Collect corresponding function values\n",
    "    errs =[]\n",
    "    x = x_0\n",
    "    while (num_iter <= n_max):\n",
    "        xs.append(x)\n",
    "        fxs.append(g(x))\n",
    "        x_temp = g(x)\n",
    "        err = abs(x-x_temp)\n",
    "        errs.append(err)\n",
    "        x = x_temp\n",
    "        num_iter += 1\n",
    "        \n",
    "\n",
    "    return (xs, gxs, errs) \n",
    "\n",
    "p_list = [0.5, 1, 1.5, 2]\n",
    "\n",
    "p2q = {1:0.1, 0.5:0.65, 1.5:0.15, 2:0.2} #found by test\n",
    "\n",
    "p=2\n",
    "\n",
    "\n",
    "#making convergencyplots\n",
    "for p in p_list:\n",
    "    xs, gxs, errs = banach_fp_modified(f, 0.1, 20, p)\n",
    "\n",
    "    itter = np.arange(len(errs))\n",
    "    q_err = lambda q: (np.ones(len(errs)) * q) ** np.arange(len(errs))\n",
    "\n",
    "\n",
    "    plt.figure()\n",
    "    plt.scatter(itter, errs)\n",
    "    plt.plot(itter, q_err(p2q[p]))\n",
    "    plt.title(\"$p=\"+ str(p) + \"\\quad q=\" + str(p2q[p]) + \"$\")\n",
    "    plt.show()"
   ]
  },
  {
   "cell_type": "markdown",
   "metadata": {},
   "source": [
    "<font color='blue'>\n",
    "    \n",
    "   Your comments here: \n",
    "\n",
    "</font>"
   ]
  },
  {
   "cell_type": "markdown",
   "metadata": {},
   "source": [
    "**c)** Test $p=0.5,1,1.5$ and $2$ and make a convergence plot. Additionally, give a rough estimate of the convergence rate of the method.  \n",
    "\n",
    "*Hint:* For fixed point iterations, the error is in general of the form $\\|x-x^\\ast\\| = \\mathcal O(q^n)$, where $q$ determines the order of convergence. Plot lines of the form $l(x) \\propto q^n$ and experiment to find values of $q$ which corresponds to the convergence plots for the fixed point iterations."
   ]
  },
  {
   "cell_type": "code",
   "execution_count": null,
   "metadata": {
    "collapsed": true
   },
   "outputs": [],
   "source": [
    "# your code here"
   ]
  },
  {
   "cell_type": "markdown",
   "metadata": {},
   "source": [
    "<font color='blue'>\n",
    "Fill in your observed convergence rates in the following table:\n",
    "</font>\n",
    "\n",
    "| $p$ | $q$  |\n",
    "|:---:|:----:|\n",
    "| 0.5 | 0.65 | \n",
    "| 1.0 |  0.1 |\n",
    "| 1.5 | 0.15 |\n",
    "| 2.0 |  0.2 |"
   ]
  },
  {
   "cell_type": "markdown",
   "metadata": {},
   "source": [
    "**d)** Show that the Lipschitz constant for $g$ with domain $[0,2]$ is given by \n",
    "$$ L = \\frac{1}{1+p}\\max\\{p,0.5\\pi-p\\}. $$\n"
   ]
  },
  {
   "cell_type": "markdown",
   "metadata": {},
   "source": [
    "The derivative of $g$ is given by:\n",
    "\\begin{align*}\n",
    "g'(x) = \\frac{1}{1+p}\\big(-0.5\\pi\\sin(0.5\\pi x) + p\\big).\n",
    "\\end{align*}\n",
    "\n",
    "Then we can calculate the Lipschitz constant by\n",
    "\\begin{align*}\n",
    "L &= \\max_{x\\in[0, 2]}|g'(x)| \\\\\n",
    "&= \\max_{x\\in[0, 2]}\\{g'(x), -g'(x)\\} \\\\\n",
    "&= \\frac{1}{1+p}\\max_{x\\in[0, 2]}\\{-0.5\\pi\\sin(0.5\\pi x) + p, 0.5\\pi\\sin(0.5\\pi x) - p\\} \\\\\n",
    "&= \\frac{1}{1+p}\\max_{x\\in[0, 2]}\\{0 + p, 0.5\\pi - p\\} \\\\\n",
    "&= \\frac{1}{1+p}\\max_{x\\in[0, 2]}\\{p, 0.5\\pi - p\\}\n",
    "\\end{align*}\n"
   ]
  },
  {
   "cell_type": "markdown",
   "metadata": {},
   "source": [
    "The Banach fixed point theorem tells us that $\\|x_{n+1} - x^\\ast\\| \\leq L\\|x_n - x^\\ast\\|$. In particular, this means that $\\|x_n - x^\\ast\\| = \\mathcal O(L^n)$. "
   ]
  },
  {
   "cell_type": "markdown",
   "metadata": {},
   "source": [
    "**e)** Compute $L$ and $f'(1)$ for $p = 0.5,1,1.5$ and $2$ and compare with the order of convergence you observed in problem **2b**. What do you observe?"
   ]
  },
  {
   "cell_type": "markdown",
   "metadata": {},
   "source": [
    "\n",
    "| $p$ | $L$  | $|g'(1)|$ | $q$  |\n",
    "|:---:|:----:|:-----------:|:----:|\n",
    "| 0.5 | 0.71 |  0.05   | 0.65  |\n",
    "| 1.0 | 0.5  |  0.21   |  0.1  |\n",
    "| 1.5 | 0.6  |  0.37   | 0.15  |\n",
    "| 2.0 | 0.67 |  0.48   |  0.2  |\n",
    "\n",
    "\n",
    "We see $L$ is less than one for all the $p$'s in the table. Then $g$ is a contraction, and which is necessary for the fixed point iteration to converge. As we saw earlier, the method converges fastest for low $L$, which confirms what we saw from the computed $q$."
   ]
  }
 ],
 "metadata": {
  "kernelspec": {
   "display_name": "Python 3",
   "language": "python",
   "name": "python3"
  },
  "language_info": {
   "codemirror_mode": {
    "name": "ipython",
    "version": 3
   },
   "file_extension": ".py",
   "mimetype": "text/x-python",
   "name": "python",
   "nbconvert_exporter": "python",
   "pygments_lexer": "ipython3",
   "version": "3.6.3"
  }
 },
 "nbformat": 4,
 "nbformat_minor": 2
}
