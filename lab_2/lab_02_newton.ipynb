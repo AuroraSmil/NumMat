{
 "cells": [
  {
   "cell_type": "markdown",
   "metadata": {},
   "source": [
    "# Lab 2:  Problem 3"
   ]
  },
  {
   "cell_type": "code",
   "execution_count": null,
   "metadata": {
    "collapsed": true
   },
   "outputs": [],
   "source": [
    "from IPython.core.display import HTML\n",
    "def css_styling():\n",
    "    styles = open(\"../styles/tma4215.css\", \"r\").read()\n",
    "    return HTML(styles)\n",
    "\n",
    "# Comment out next line and execute this cell to restore the default notebook style \n",
    "css_styling()"
   ]
  },
  {
   "cell_type": "markdown",
   "metadata": {},
   "source": [
    "We will now use Newton's method to find the roots to a *complex* function, namely the function\n",
    "    $$f_C(z) = z^3 - 1.$$\n",
    "### a)\n",
    "Write the complex function $f_C: \\mathbb{C} \\to \\mathbb{C}$ as a real vector-valued function $\\mathbf{f}: \\mathbb{R}^2 \\to \\mathbb{R}^2$ and write down the Jacobian.  \n",
    "(*Hint: use rectangular coordinates $z = x_1+\\mathrm{i}x_2$)*"
   ]
  },
  {
   "cell_type": "markdown",
   "metadata": {},
   "source": [
    "<font color='blue'>\n",
    "    \n",
    "   Solution: \n",
    "\n",
    "</font>"
   ]
  },
  {
   "cell_type": "markdown",
   "metadata": {},
   "source": [
    "### b)\n",
    "Write a function $\\texttt{Newton}$ which performs Newton iteration until $\\|\\mathbf{f}(\\mathbf{x}^k)\\|_p$ is smaller than some given tolerance $tol$. You can choose what $p$-norm $\\|\\cdot\\|_p$ you use. The function should take as input parameters  \n",
    " - Initial guess $\\mathbf{x}^{(0)}$\n",
    " - tolerance $tol$\n",
    " - Maximum number of iterations $itermax$.  \n",
    "\n",
    "The function should return the final iterate $\\mathbf{x}^{(k)}$, and some indication of whether the iteration converged. "
   ]
  },
  {
   "cell_type": "code",
   "execution_count": null,
   "metadata": {
    "collapsed": true
   },
   "outputs": [],
   "source": [
    "# As alway we start by importing the important libraries.\n",
    "import numpy as np\n",
    "import scipy.linalg as la\n",
    "import matplotlib.pyplot as plt\n",
    "import numpy.linalg.norm as la\n",
    "\n",
    "def Newton(x0, tol, itermax)\n",
    "    #...\n",
    "    return xk, converged"
   ]
  },
  {
   "cell_type": "markdown",
   "metadata": {},
   "source": [
    "### c)\n",
    "The function $\\mathbf{f}$ has exactly three roots. (Which?) Hence, if the iteration converges it might converge to any of the three roots. You will now study the dependence on initial guess to which root the iteration converges. Pick $N$ equidistant values of $x^{(0)}_1$ in the interval $[-1,1]$ and $N$ equidistant values of $x^{(0)}_2$ in the interval $[-1,1]$. For each point $\\mathbf{x}^{(0)} = (x^{(0)}_1, x^{(0)}_2)^T$, perform the newton iteration you have defined above. Give the point a color depending on whether the iteration converged in time. If the iteration converged, the point should get a different color depending on which point it converged to. Plot the result."
   ]
  },
  {
   "cell_type": "code",
   "execution_count": null,
   "metadata": {
    "collapsed": true
   },
   "outputs": [],
   "source": [
    "N = \n",
    "x_1 = np.linspace(-1,1, N)\n",
    "x_2 = np.linspace(-1,1,N)\n",
    "tol = \n",
    "itermax = \n",
    "\n",
    "fig, axes = plt.subplots()\n",
    "\n",
    "root_1 = \n",
    "root_2 = \n",
    "root_3 = \n",
    "\n",
    "\n",
    "for i in x_1: \n",
    "    for j in x_2:\n",
    "        x = np.array([i,j])\n",
    "        x_k, converged = Newton(x, tol, itermax)\n",
    "        \n",
    "        if converged:\n",
    "            if la.norm(x_k-root_1)<tol: \n",
    "                axes = plt.scatter(i, j, c = \"r\")\n",
    "            elif la.norm(x_k-root_2)<tol: \n",
    "                axes = plt.scatter(i, j, c = \"b\")\n",
    "            if la.norm(x_k-root_3)<tol: \n",
    "                axes = plt.scatter(i, j, c = \"g\")\n",
    "\n",
    "\n"
   ]
  },
  {
   "cell_type": "markdown",
   "metadata": {},
   "source": [
    "*Hint 1: You will encounter an error if you try with the initial guess $\\mathbf{x}^{(0)} = \\mathbf{0}$. It might be good to offset all initial guesses by some small perturbation $\\mathbf{\\delta}$.*     "
   ]
  },
  {
   "cell_type": "markdown",
   "metadata": {},
   "source": [
    "*Hint 2: A good way to measure which root the iteration converged to is looking at the argument if the point as a complex number, that is $$\\arg(x^{(k)}_1 + \\mathrm{i}x^{(k)}_2).$$ Store the result in a $N\\times N$ array. If the iteration did not converge, the point can be given the value* **None**. *The result can then be plotted using the matplotlib.pyplot function $\\texttt{imshow}$.*"
   ]
  },
  {
   "cell_type": "markdown",
   "metadata": {},
   "source": [
    "### d)\n",
    "Discuss the following: Does it matter what $p$-norm you use in your Newton algorithm? What happens if you change norm? Does the result change qualitively? Remember that the $p$-norm on $\\mathbb{R}^n$  is defined as\n",
    "$$\n",
    "\\|\\mathbf{x}\\|_p := \\left(\\sum_{k=1}^n|x_k|^p\\right)^{1/p}\n",
    "$$\n",
    "for $1<p<\\infty$."
   ]
  },
  {
   "cell_type": "markdown",
   "metadata": {},
   "source": [
    "<font color='blue'>\n",
    "    \n",
    "   Higher norms seem to make the algorithm converge faster but does not seem to reach the correct points.\n",
    "   \n",
    "</font>"
   ]
  },
  {
   "cell_type": "markdown",
   "metadata": {},
   "source": [
    "### e) (Not mandatory)\n",
    "Modify your Newton function so that it returns the number of iterations used. Then, plot the number of iterations used for each initial guess $\\mathbf{x}^{(0)}.$ What do you observe?"
   ]
  },
  {
   "cell_type": "code",
   "execution_count": null,
   "metadata": {
    "collapsed": true
   },
   "outputs": [],
   "source": [
    "#Write code here"
   ]
  },
  {
   "cell_type": "markdown",
   "metadata": {},
   "source": [
    "### Remark\n",
    "If you colored the plot according to the hint, the white parts are called the *Julia set* of the rational function $$Q(z) = z - \\frac{f_C(z)}{f_C'(z)}.$$ The colored parts are called *Fatou components.* If you would like to more about the plot above and others like it, there is a link to the wikipedia page of [Julia sets](https://en.wikipedia.org/wiki/Julia_set)."
   ]
  }
 ],
 "metadata": {
  "kernelspec": {
   "display_name": "Python 3",
   "language": "python",
   "name": "python3"
  },
  "language_info": {
   "codemirror_mode": {
    "name": "ipython",
    "version": 3
   },
   "file_extension": ".py",
   "mimetype": "text/x-python",
   "name": "python",
   "nbconvert_exporter": "python",
   "pygments_lexer": "ipython3",
   "version": "3.6.3"
  }
 },
 "nbformat": 4,
 "nbformat_minor": 2
}
