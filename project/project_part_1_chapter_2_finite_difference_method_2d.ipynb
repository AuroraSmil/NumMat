{
 "cells": [
  {
   "cell_type": "markdown",
   "metadata": {},
   "source": [
    "# Computer Project for TMA4215\n",
    "\n",
    "$$\n",
    "\\DeclareMathOperator{\\Div}{div}\n",
    "\\DeclareMathOperator{\\Grad}{grad}\n",
    "\\DeclareMathOperator{\\Curl}{curl}\n",
    "\\DeclareMathOperator{\\Rot}{rot}\n",
    "\\DeclareMathOperator{\\ord}{ord}\n",
    "\\DeclareMathOperator{\\Kern}{ker}\n",
    "\\DeclareMathOperator{\\Image}{im}\n",
    "\\DeclareMathOperator{\\spann}{span}\n",
    "\\DeclareMathOperator{\\rank}{rank}\n",
    "\\DeclareMathOperator{\\dist}{dist}\n",
    "\\DeclareMathOperator{\\diam}{diam}\n",
    "\\DeclareMathOperator{\\sig}{sig}\n",
    "\\DeclareMathOperator{\\Id}{Id}\n",
    "\\DeclareMathOperator{\\CQR}{CQR}\n",
    "\\DeclareMathOperator{\\QR}{QR}\n",
    "\\DeclareMathOperator{\\TR}{TR}\n",
    "\\DeclareMathOperator{\\CTR}{CTR}\n",
    "\\DeclareMathOperator{\\SR}{SR}\n",
    "\\DeclareMathOperator{\\CSR}{CSR}\n",
    "\\DeclareMathOperator{\\NCR}{NCR}\n",
    "\\DeclareMathOperator{\\MR}{MR}\n",
    "\\newcommand{\\RR}{\\mathbb{R}}\n",
    "\\newcommand{\\NN}{\\mathbb{N}}\n",
    "\\newcommand{\\VV}{\\mathbb{V}}\n",
    "\\newcommand{\\PP}{\\mathbb{P}}\n",
    "\\newcommand{\\dGamma}{\\,\\mathrm{d} \\Gamma}\n",
    "\\newcommand{\\dGammah}{\\,\\mathrm{d} \\Gamma_h}\n",
    "\\newcommand{\\dx}{\\,\\mathrm{d}x}\n",
    "\\newcommand{\\dy}{\\,\\mathrm{d}y}\n",
    "\\newcommand{\\ds}{\\,\\mathrm{d}s}\n",
    "\\newcommand{\\dt}{\\,\\mathrm{d}t}\n",
    "\\newcommand{\\dS}{\\,\\mathrm{d}S}\n",
    "\\newcommand{\\dV}{\\,\\mathrm{d}V}\n",
    "\\newcommand{\\dX}{\\,\\mathrm{d}X}\n",
    "\\newcommand{\\dY}{\\,\\mathrm{d}Y}\n",
    "\\newcommand{\\dE}{\\,\\mathrm{d}E}\n",
    "\\newcommand{\\dK}{\\,\\mathrm{d}K}\n",
    "\\newcommand{\\dM}{\\,\\mathrm{d}M}\n",
    "\\newcommand{\\cd}{\\mathrm{cd}}\n",
    "\\newcommand{\\onehalf}{\\frac{1}{2}}\n",
    "\\newcommand{\\bfP}{\\boldsymbol P}\n",
    "\\newcommand{\\bfx}{\\boldsymbol x}\n",
    "\\newcommand{\\bfy}{\\boldsymbol y}\n",
    "\\newcommand{\\bfa}{\\boldsymbol a}\n",
    "\\newcommand{\\bfu}{\\boldsymbol u}\n",
    "\\newcommand{\\bfv}{\\boldsymbol v}\n",
    "\\newcommand{\\bfe}{\\boldsymbol e}\n",
    "\\newcommand{\\bfb}{\\boldsymbol b}\n",
    "\\newcommand{\\bfc}{\\boldsymbol c}\n",
    "\\newcommand{\\bfq}{\\boldsymbol q}\n",
    "\\newcommand{\\bfy}{\\boldsymbol y}\n",
    "\\newcommand{\\bff}{\\boldsymbol f}\n",
    "\\newcommand{\\bfp}{\\boldsymbol p}\n",
    "\\newcommand{\\bft}{\\boldsymbol t}\n",
    "\\newcommand{\\bfj}{\\boldsymbol j}\n",
    "\\newcommand{\\bfB}{\\boldsymbol B}\n",
    "\\newcommand{\\bfV}{\\boldsymbol V}\n",
    "\\newcommand{\\bfE}{\\boldsymbol E}\n",
    "\\newcommand{\\bfB}{\\boldsymbol B}\n",
    "\\newcommand{\\bfzero}{\\boldsymbol 0}\n",
    "$$"
   ]
  },
  {
   "cell_type": "code",
   "execution_count": null,
   "metadata": {},
   "outputs": [],
   "source": [
    "from IPython.core.display import HTML\n",
    "def css_styling():\n",
    "    styles = open(\"../../styles/tma4215.css\", \"r\").read()\n",
    "    return HTML(styles)\n",
    "\n",
    "# Comment out next line and execute this cell to restore the default notebook style \n",
    "css_styling()"
   ]
  },
  {
   "cell_type": "markdown",
   "metadata": {},
   "source": [
    "## Part 1: The Poisson Equation\n",
    "\n",
    "\n",
    "### Chapter 2: Rising to 2 dimensions"
   ]
  },
  {
   "cell_type": "markdown",
   "metadata": {},
   "source": [
    "<font color = \"gray\">\n",
    "We consider 2-dimenionsal equivalent of the two-point boundary value problem, known as the __Poisson problem__:\n",
    "\n",
    "Let $\\Omega = [0,1]\\times [0,1] \\subset \\RR^2$, and given\n",
    "a right-hand side (or source) function $f: \\Omega \\to  \\RR$\n",
    "and a boundary function $g: \\partial \\Omega \\to \\RR$.\n",
    "Here $\\partial \\Omega = \\{0\\} \\times [0,1] \\cup \\{1\\} \\times [0,1]\n",
    "\\cup [0,1]  \\times \\{0\\} \\cup [0,1]  \\times \\{1\\}$\n",
    "denotes the boudary of $\\Omega$. Then the task is to find\n",
    "$u: \\Omega \\to  \\RR$ such that\n",
    "$$\n",
    "\\begin{align}\n",
    "- \\Delta u  &= f \\quad \\text{in } \\Omega,\n",
    "\\tag{1a}\n",
    "\\\\\n",
    " u &= g \\quad \\text{on } \\partial \\Omega.\n",
    "\\tag{1b}\n",
    "\\end{align}\n",
    "$$\n",
    "\n",
    "Recall that the Laplace operater $\\Delta u$ is defined by\n",
    "\\begin{align*}\n",
    "\\Delta u(x,y) = \n",
    "\\partial^2_{x} u(x,y) + \\partial^2_{y} u(x,y)\n",
    "= \n",
    "\\dfrac{\\partial^2}{\\partial x^2} u(x,y) \n",
    "+\\dfrac{\\partial^2}{\\partial y^2} u(x,y) \n",
    "\\end{align*}\n",
    "\n",
    "How do we compute a numerical solution to (1a)-(1b)?"
   ]
  },
  {
   "cell_type": "markdown",
   "metadata": {},
   "source": [
    "### Finite Difference Method for the 2D Poisson problem\n",
    "<font color = \"gray\">\n",
    "Instead of trying to compute $u(x)$ exactly,\n",
    "we will now try to compute a numerical approximation\n",
    "$u_{\\Delta}$ of $u(x)$. In 1D, we introduced $n+1$ equally space grid points on $[0,1]$. Since we are in 2D now, we just apply the same procedure in every dimension and then create a 2D grid:\n",
    "\n",
    "* Subdivide the $x$-axis,\n",
    "and introduce $\\{x_i\\}_{i=0}^n$ with $x_i = i h$, $ h = \\tfrac{1}{n}$\n",
    "* Subdivide the $y$-axis,\n",
    "and introduce $\\{y_j\\}_{j=0}^n$ with $y_j = j h$\n",
    "* Defind the $N = (n+1)^2$ grid points $\\{(x_i,y_j)\\}_{i,j=0}^{n}$.\n",
    "\n",
    "To each of the grid points $(x_i,y_j)$ we now assoicate\n",
    "an unknow $U_{i,j}$  for $i,j=0,\\ldots n $.\n",
    "\n",
    "Below you see an illustration for the case $n=3$:"
   ]
  },
  {
   "cell_type": "markdown",
   "metadata": {},
   "source": [
    "<img src=\"figures/fdm-grid-1.png\" style=\"width:400px;height:410px\"/>"
   ]
  },
  {
   "cell_type": "markdown",
   "metadata": {},
   "source": [
    "<font color = \"gray\">\n",
    "\n",
    "To derive an equation system for the $U_{i,j}$, we take the same approach\n",
    "as for the two-point value problem realizing that the  $\\partial_x^2 u$ \n",
    "can be approximated by a central difference operator along the $x$-axis\n",
    "\\begin{align*}\n",
    "\\partial_x^+ \\partial_x^- u(x_i, y_j)\n",
    ":=  \\dfrac{u(x_{i+1}, y_j) - 2 u(x_i,y_j) + u(x_{i-1}, y_j)}\n",
    "{h^2}\n",
    "\\approx \\partial_x^2 u(x_i, y_j),\n",
    "\\end{align*}\n",
    "while keeping the $y$-variable fixed.\n",
    "\n",
    "The same goes the other way around, so to approximate $\\partial_y^2 u$ at $(x_i,y_j)$, we use the central difference operator along the $y$-axis\n",
    "\\begin{align*}\n",
    "\\partial_y^+ \\partial_y^- u(x_i, y_j)\n",
    ":=  \\dfrac{u(x_{i}, y_{j+1}) - 2 u(x_i,y_j) + u(x_{i}, y_{j-1})}\n",
    "{h^2}\n",
    "\\approx \\partial_y^2 u(x_i, y_j),\n",
    "\\end{align*}\n",
    "while keeping the $x$-variable fixed.\n",
    "\n",
    "So in total, we obtain that\n",
    "\\begin{align*}\n",
    "f(x_i,y_j) &=\n",
    "- \\Delta u(x_i, y_j) = -\\partial_{xx}^2 u(x_i,y_j) -\\partial_{yy}^2 u(x_i,y_j)\n",
    "\\\\\n",
    "&\\approx\n",
    "-\\partial_x^+ \\partial_x^- u(x_i, y_j)\n",
    "-\n",
    "\\partial_y^+ \\partial_y^- u(x_i, y_j)\n",
    "\\\\\n",
    "&=  -\\dfrac{u(x_{i+1}, y_{j}) + u(x_{i}, y_{j+1}) - 4 u(x_i,y_j) + u(x_{i-1}, y_{j}) + u(x_{i}, y_{j-1})}\n",
    "{h^2}\n",
    "\\end{align*}\n",
    "\n",
    "Because of the index structure the finite difference operator $(\\partial_x^+ \\partial_x^- +  \\partial_y^+ \\partial_y^- )$ is also called __5-point stencil__."
   ]
  },
  {
   "cell_type": "markdown",
   "metadata": {},
   "source": [
    "#### Task 1\n",
    "Similar as before, use Taylor expansion to show that\n",
    "for \n",
    "$u \\in C^4([0,1]^2)$\n",
    "\n",
    "$$\n",
    "\\max_{(x,y) \\in [0,1]^2} | (\\partial_x^+ \\partial_x^- +  \\partial_y^+ \\partial_y^- )u(x) - \\Delta u(x,y) |\n",
    "=\n",
    "\\mathcal{O}(h^2).\n",
    "$$"
   ]
  },
  {
   "cell_type": "markdown",
   "metadata": {},
   "source": [
    "<font color = \"blue\">\n",
    "Solution:\n"
   ]
  },
  {
   "cell_type": "markdown",
   "metadata": {},
   "source": [
    "Assume it should be \n",
    "$$\n",
    "\\max_{(x,y) \\in [0,1]^2} | (\\partial_x^+ \\partial_x^- +  \\partial_y^+ \\partial_y^- \\underline{u(x,y)} - \\Delta u(x,y) |\n",
    "=\n",
    "\\mathcal{O}(h^2).\n",
    "$$\n"
   ]
  },
  {
   "cell_type": "markdown",
   "metadata": {},
   "source": [
    "The taylor expansion for $u(x,y) \\in C^4([0, 1]^2)$ is: \n",
    "$$u(x+h,y)= u(x,y) + h\\frac{\\partial u(x,y)}{\\partial x} + \\frac{h^2}{2!} \\frac{\\partial^2 u(x,y)}{\\partial x^2} + \\frac{h^3}{3!} \\frac{\\partial^3 u(x,y)}{\\partial x^3} + \\frac{h^4}{4!} \\frac{\\partial^4 u(x,y)}{\\partial x^4} (\\xi,y).$$ \n",
    "\n",
    "With $\\xi \\in [0,1]$\n",
    "\n",
    "$$u(x,y+h)= u(x,y) + h\\frac{\\partial u(x,y)}{\\partial y} + \\frac{h^2}{2!} \\frac{\\partial^2 u(x,y)}{\\partial y^2} + \\frac{h^3}{3!} \\frac{\\partial^3 u(x,y)}{\\partial y^3} + \\frac{h^4}{4!} \\frac{\\partial^4 u(x,y)}{\\partial y^4} (x,\\sigma).$$ \n",
    "\n",
    "With $\\sigma \\in [0,1]$\n",
    "\n",
    "We know,\n",
    "$$\n",
    "-\\partial_x^+ \\partial_x^- u(x_i, y_j)\n",
    "-\n",
    "\\partial_y^+ \\partial_y^- u(x_i, y_j)\n",
    "\\\\\n",
    "=  -\\dfrac{u(x_{i+1}, y_{j}) + u(x_{i}, y_{j+1}) - 4 u(x_i,y_j) + u(x_{i-1}, y_{j}) + u(x_{i}, y_{j-1})}\n",
    "{h^2}.\n",
    "$$\n",
    "\n",
    "This leads to, \n",
    "\n",
    "$$(\\partial_x^+\\partial_x^- + \\partial_y^+\\partial_y^-)u(x,y) - \\Delta u(x,y) \\\\\n",
    "=\\dfrac{u(x+h, y) + u(x, y) - 4 u(x,y) + u(x-h, y) + u(x, y-h)}\n",
    "{h^2} -(\\frac{\\partial^2 u(x,y)}{\\partial x^2} + \\frac{\\partial^2 u(x,y)}{\\partial y^2})\n",
    "$$\n",
    "\n",
    "By inserting the taylor expansion of $u(x+h,y)$, $u(x-h,y)$, $u(x,y+h)$, $u(x,y-h)$ we get:\n",
    "$$(\\partial_x^+\\partial_x^- + \\partial_y^+\\partial_y^-)u(x,y) - \\Delta u(x,y) \\\\\n",
    "= \\left(4 u(x,y) -4 u(x,y)+  h\\frac{\\partial u(x,y)}{\\partial x} -  h\\frac{\\partial u(x,y)}{\\partial x} + h\\frac{\\partial u(x,y)}{\\partial y} -  h\\frac{\\partial u(x,y)}{\\partial y} + 2 \\frac{h^2}{2!}\\frac{\\partial^2 u(x,y)}{\\partial x^2} + 2 \\frac{h^2}{2!}\\frac{\\partial^2 u(x,y)}{\\partial y^2} +  \\frac{h^3}{3!} \\frac{\\partial^3 u(x,y)}{\\partial x^3} - \\frac{h^3}{3!} \\frac{\\partial^3 u(x,y)}{\\partial x^3} +\\frac{h^3}{3!} \\frac{\\partial^3 u(x,y)}{\\partial y^3} - \\frac{h^3}{3!} \\frac{\\partial^3 u(x,y)}{\\partial y^3} + 2 \\frac{h^4}{4!}\\frac{\\partial^4 u(\\xi,y)}{\\partial x^4} + 2 \\frac{h^4}{4!}\\frac{\\partial^4 u(x,\\sigma)}{\\partial y^4} )\\right) *\\frac{1}{h^2} \\\\ \n",
    "-\\left(\\frac{\\partial^2 u(x,y)}{\\partial x^2} + \\frac{\\partial^2 u(x,y)}{\\partial y^2}\\right) \\\\\n",
    "= 2\\frac{h^2}{4!}\\frac{\\partial^4 u(\\xi,y)}{\\partial x^4} + 2 \\frac{h^2}{4!}\\frac{\\partial^4 u(x,\\sigma)}{\\partial y^4}\n",
    "$$\n",
    "\n",
    "Since we know $\\frac{\\partial^4 u(x,\\sigma)}{\\partial y^4} = l(x,y)$ and $\\frac{\\partial^4 u(\\xi,y)}{\\partial x^4} = k(x,y)$ are continious on $[0,1]^2$ they must obtain a maximum. This means that \n",
    "\n",
    "$$\n",
    "\\max_{(x,y) \\in [0,1]^2} | (\\partial_x^+ \\partial_x^- +  \\partial_y^+ \\partial_y^- )u(x,y) - \\Delta u(x,y) | = \\max_{(x,y) \\in [0,1]^2}| 2\\frac{h^2}{4!}\\frac{\\partial^4 u(\\xi,y)}{\\partial x^4} + 2 \\frac{h^2}{4!}\\frac{\\partial^4 u(x,\\sigma)}{\\partial y^4}| \\\\\n",
    "\\leq \\frac{2h^2}{4!} (\\max_{(x,y) \\in [0,1]^2} |l(x,y)| + \\max_{(x,y) \\in [0,1]^2} |k(x,y)|) = h^2C = O(h^2).\n",
    "$$\n"
   ]
  },
  {
   "cell_type": "markdown",
   "metadata": {},
   "source": [
    "<font color = \"gray\">\n",
    "Using the 5-point stencil, we again get an equation system for the \n",
    "$(N-1)^2$ __internal grid points__ $\\{(x_i, y_j\\}_{i,j=1}^{n-1}$\n",
    "\n",
    "\\begin{align}\n",
    "-(\\partial_x^+ \\partial_x^- + \\partial_y^+\\partial_y^-) U_{ij}\n",
    "&=\n",
    "\\dfrac{4 U_{i,j} -  U_{i+1,j} - U_{i,j+1} - U_{i-1, j} -  U_{i, j-1}}{h^2}\n",
    "\\\\\n",
    "&=  f(x_i, y_j) =: F_{ij} \\quad \\text{for } i,j = 1,\\ldots N-1.\n",
    "\\end{align}\n"
   ]
  },
  {
   "cell_type": "markdown",
   "metadata": {},
   "source": [
    "<font color = \"gray\">\n",
    "As before (yes, we are repeating ourselves!) the system needs to closed by supplementing the equations for the boundary conditions.\n",
    "We set the boundary conditions on the bottom and top of the square $[0,1]^2$ by requiring that\n",
    "\\begin{align}\n",
    "U_{i,j} = g(x_i, y_j) \\quad \\text{for }  i=0,\\ldots, n, j \\in \\{0,n\\}.\n",
    "\\end{align}\n",
    "and then treating the remaining boundary points on the left and right of $[0,1]^2$:\n",
    "\\begin{align}\n",
    "U_{i,j} = g(x_i, y_j) \\quad \\text{for }  i \\in \\{0,n\\}, j=1,\\ldots, n-1.\n",
    "\\end{align}\n",
    "How can we get from here to a nice looking linear system? \n",
    "We have used a double index, one for each dimension, so that we could easily \n",
    "reduce the discretization of $\\Delta$ to the techniques we learned in Chapter 1 on 1D two-point boundary problems.\n",
    "\n",
    "To avoid the introduction of multi-dimensional matrices, we need to\n",
    "transform the double index $(i,j)$ into a single index by introducing\n",
    "a consecutive numbering $I = I(i,j)$ of the the unknowns.\n",
    "\n",
    "For example, the  row-wise numbering of the unknown is illustrated \n",
    "here:"
   ]
  },
  {
   "cell_type": "markdown",
   "metadata": {},
   "source": [
    "<img src=\"figures/fdm-grid-2.png\" style=\"width:400px;height:410px\"/>"
   ]
  },
  {
   "cell_type": "markdown",
   "metadata": {},
   "source": [
    "#### Task 2: \n",
    "Any consecutive numbering is nothing but a index mapping of the form $\\NN^2 \\ni (i,j) \\mapsto I(i,j) \\in \\NN$.  Which of the following index mapping corresponds to the row-wise numbering illustrated above? \n",
    "1. $I(i,j) = i n + j \\quad$ for $i,j = 0,\\ldots, n$\n",
    "2. $I(i,j) = i + j n\\quad$ for $i,j = 0,\\ldots, n$\n",
    "3. $I(i,j) = i + j(n+1)$ for $i,j = 0,\\ldots, n$\n",
    "4. $I(i,j) = i(n-1) + j$ for $i,j = 0,\\ldots, n$\n",
    "\n",
    "Write also down the index mapping for column-wise numbering\n",
    "(also known as lexicographical order)"
   ]
  },
  {
   "cell_type": "markdown",
   "metadata": {},
   "source": [
    "<font color=\"blue\">\n",
    "Solution: \n",
    "</font>"
   ]
  },
  {
   "cell_type": "markdown",
   "metadata": {},
   "source": [
    "Mapping nr 3 gives the correct row-wise numbering. The column-wise numbering is given by: \n",
    "$I(i,j) = i (n+1) + j \\quad$ for $i,j = 0,\\ldots, n$"
   ]
  },
  {
   "cell_type": "markdown",
   "metadata": {},
   "source": [
    "#### Task 3\n",
    "Now we implement a first FDM 2D solver. \n",
    "\n",
    "Start with defining a 1-line function ```I(i,j,n)```\n",
    "which for $n$ equally spaced intervals in each direction\n",
    "transforms an double index $(i,j)$ into a single index $I$\n",
    "using a row-wise numbering."
   ]
  },
  {
   "cell_type": "code",
   "execution_count": null,
   "metadata": {
    "collapsed": true
   },
   "outputs": [],
   "source": [
    "# Define index mapping\n",
    "def I(i,j,n):\n",
    "    return i + j * (n+1)"
   ]
  },
  {
   "cell_type": "markdown",
   "metadata": {},
   "source": [
    "Next, define a ```def fdm_poisson_2d_matrix_dense(n, I)```\n",
    "which takes in $n$ and the index mapping $I$ and\n",
    "computes the full finite difference matrix, including setting \n",
    "those diagonals elements to $1$ which correspond to an index \n",
    "on the boundary."
   ]
  },
  {
   "cell_type": "code",
   "execution_count": null,
   "metadata": {
    "collapsed": true
   },
   "outputs": [],
   "source": [
    "import numpy as np\n",
    "\n",
    "def fdm_poisson_2d_matrix_dense(n, I):\n",
    "    # Grid size\n",
    "    h = 1.0 / n\n",
    "\n",
    "    # Total number of unknowns is N = (n+1)*(n+1)\n",
    "    N = (n + 1) ** 2\n",
    "\n",
    "    # Define zero matrix A of right size and insert 0\n",
    "    A = np.zeros((N, N))\n",
    "\n",
    "    # Define FD entries of A\n",
    "    hh = h * h\n",
    "    for j in range(1, n):\n",
    "        for i in range(1, n):\n",
    "            A[I(i, j, n), I(i, j, n)] = 4 / hh  # U_ij, center\n",
    "            A[I(i, j, n), I(i - 1, j, n)] = -1 / hh  # U_{i-1,j}, left\n",
    "            A[I(i, j, n), I(i + 1, j, n)] = -1 / hh  # U_{i+1,j}, right\n",
    "            A[I(i, j, n), I(i, j - 1, n)] = -1 / hh  # U_{i,j-1}, under\n",
    "            A[I(i, j, n), I(i, j + 1, n)] = -1 / hh  # U_{i,j+1}, over\n",
    "\n",
    "    # Incorporate boundary conditions\n",
    "    # Add points to grid related to boundary values on the bottom and on the top.\n",
    "    for j in [0, n]:\n",
    "        for i in range(0, n + 1):\n",
    "            # print(\"indeks\", I(i, j, n))\n",
    "            A[I(i, j, n), I(i, j, n)] = 1\n",
    "\n",
    "    # Add boundary values related to unknowns from the first and last grid COLUMN\n",
    "    for i in [0, n]:\n",
    "        for j in range(0, n + 1):\n",
    "            # print(\"ind\", I(i, j, n))\n",
    "            A[I(i, j, n), I(i, j, n)] = 1\n",
    "\n",
    "    return A\n"
   ]
  },
  {
   "cell_type": "markdown",
   "metadata": {},
   "source": [
    "Now try to numerically solve the Poisson problem. \n",
    "We will learn a few new functions from the ```numpy``` module\n",
    "along the way."
   ]
  },
  {
   "cell_type": "code",
   "execution_count": null,
   "metadata": {
    "collapsed": true
   },
   "outputs": [],
   "source": [
    "# Number of subdivisions in each dimension\n",
    "n = 100\n",
    "\n",
    "x,y = np.ogrid[0:1:(n+1)*1j, 0:1:(n+1)*1j]\n"
   ]
  },
  {
   "cell_type": "markdown",
   "metadata": {},
   "source": [
    "To build a complete example and test your code, use again the method of __manufactured solution__."
   ]
  },
  {
   "cell_type": "code",
   "execution_count": null,
   "metadata": {
    "collapsed": true
   },
   "outputs": [],
   "source": [
    "import matplotlib.pyplot as plt\n",
    "import sympy as sp\n",
    "\n",
    "\n",
    "# Example of exact solution\n",
    "def u_ex(x, y, pck=np):\n",
    "    return pck.sin(1 * pck.pi * x) * pck.sin(2 * pck.pi * y)\n",
    "\n",
    "\n",
    "def laplace_u(u_func, x, y):\n",
    "    # Automatic differerentiation of u_ex with sympy.\n",
    "    x_var, y_var = sp.var(\"x_var y_var\")\n",
    "    u_sp = u_func(x_var, y_var, sp)\n",
    "    dell_x = sp.diff(u_sp, x_var)\n",
    "    dell_y = sp.diff(u_sp, y_var)\n",
    "    # Set MINUS in front, to match diff equation\n",
    "    laplace = -(sp.diff(dell_x, x_var) + sp.diff(dell_y, y_var))\n",
    "    # Return as numpy function\n",
    "    return sp.lambdify((x_var, y_var), laplace, \"numpy\")(x, y)\n",
    "\n",
    "\n",
    "# Boundary data g is given by u_ex\n",
    "g = u_ex\n",
    "\n",
    "\n",
    "# Right hand side\n",
    "def f(x, y):\n",
    "    return laplace_u(u_ex, x, y)\n",
    "\n",
    "\n",
    "# Evaluate u on the grid. The output will be a 2 dimensional array\n",
    "# where U_ex_grid[i,j] = u_ex(x_i, y_j)\n",
    "U_ex_grid = u_ex(x, y)\n"
   ]
  },
  {
   "cell_type": "markdown",
   "metadata": {},
   "source": [
    "Here is a little helper functions for plotting grid functions like ```U_grid```."
   ]
  },
  {
   "cell_type": "code",
   "execution_count": null,
   "metadata": {
    "collapsed": true
   },
   "outputs": [],
   "source": [
    "import matplotlib.pyplot as plt\n",
    "from matplotlib import cm\n",
    "from mpl_toolkits.mplot3d import Axes3D\n",
    "\n",
    "def plot2D(X, Y, Z, title=\"\"):\n",
    "    # Define a new figure with given size an\n",
    "    fig = plt.figure(figsize=(8, 6), dpi=100)\n",
    "    ax = fig.gca(projection='3d')\n",
    "    surf = ax.plot_surface(X, Y, Z,             \n",
    "                           rstride=1, cstride=1, # Sampling rates for the x and y input data\n",
    "                           cmap=cm.viridis)      # Use the new fancy colormap viridis\n",
    "    \n",
    "    # Set initial view angle\n",
    "    ax.view_init(30, 225)\n",
    "    \n",
    "    # Set labels and show figure\n",
    "    ax.set_xlabel('$x$')\n",
    "    ax.set_ylabel('$y$')\n",
    "    ax.set_title(title)\n",
    "    plt.show()"
   ]
  },
  {
   "cell_type": "markdown",
   "metadata": {},
   "source": [
    "Now try it out to plot $u_{ex}$."
   ]
  },
  {
   "cell_type": "code",
   "execution_count": null,
   "metadata": {},
   "outputs": [],
   "source": [
    "%matplotlib notebook \n",
    "\n",
    "plot2D(x, y, U_ex_grid, title=\"$u(x,y)$\")"
   ]
  },
  {
   "cell_type": "markdown",
   "metadata": {},
   "source": [
    "You can do the same for right-hand side $f$ and the \n",
    "boundary function $g$."
   ]
  },
  {
   "cell_type": "code",
   "execution_count": null,
   "metadata": {
    "collapsed": true
   },
   "outputs": [],
   "source": [
    "# Evaluate f on the grid. The output will be a 2 dimensional array \n",
    "# where f_grid[i,j] = f(x_i, y_j)\n",
    "F_grid = f(x,y)\n",
    "\n",
    "# Same game for boundary data g\n",
    "G_grid = g(x,y)"
   ]
  },
  {
   "cell_type": "markdown",
   "metadata": {},
   "source": [
    "Before we finally going to solve the Poisson problem,\n",
    "we need translate the ```F_grid``` into a proper rhs vector $F$\n",
    "and need to incorporate the boundary function value into $F$.\n",
    "\n",
    "Start with flatten out $F$ and $G$:"
   ]
  },
  {
   "cell_type": "code",
   "execution_count": null,
   "metadata": {
    "collapsed": true
   },
   "outputs": [],
   "source": [
    "# To apply bcs we have to flatten out F which is done by the ravel function\n",
    "F = F_grid.ravel()\n",
    "\n",
    "# To apply bcs we have to flatten out G which is done by the ravel function\n",
    "G = G_grid.ravel()"
   ]
  },
  {
   "cell_type": "markdown",
   "metadata": {},
   "source": [
    "Also, we define a function incorporating the values of ```G``` into ```F```."
   ]
  },
  {
   "cell_type": "code",
   "execution_count": null,
   "metadata": {
    "collapsed": true
   },
   "outputs": [],
   "source": [
    "\n",
    "def apply_bcs(F, G, n, I):\n",
    "    # Add boundary values related to unknowns from the first and last grid ROW\n",
    "    bc_indices = [I(i, j, n) for j in [0, n] for i in range(0, n + 1)] + \\\n",
    "                 [I(i, j, n) for i in [0, n] for j in range(0, n + 1)]\n",
    "    F[bc_indices] = G[bc_indices]\n",
    "\n",
    "    return F\n"
   ]
  },
  {
   "cell_type": "markdown",
   "metadata": {},
   "source": [
    "Finally, solve the Poisson problem."
   ]
  },
  {
   "cell_type": "code",
   "execution_count": null,
   "metadata": {
    "scrolled": true
   },
   "outputs": [],
   "source": [
    "%%timeit\n",
    "# Linear algebra solvers from scipy\n",
    "import scipy.linalg as la\n",
    "\n",
    "def solve_system(n, I, F, G):\n",
    "    # Compute the FDM matrix\n",
    "    A = fdm_poisson_2d_matrix_dense(n, I)\n",
    "\n",
    "    # Apply bcs\n",
    "    F = apply_bcs(F, G, n, I)\n",
    "\n",
    "    # Solve\n",
    "    U = la.solve(A, F)\n",
    "    #print(A.shape, F.shape)\n",
    "\n",
    "    # Make U into a grid function for plotting\n",
    "    U_grid = U.reshape((n + 1, n + 1))\n",
    "    return U_grid\n",
    "\n",
    "U_grid = solve_system(n, I, F, G)\n",
    "\n",
    "\n",
    "\n"
   ]
  },
  {
   "cell_type": "code",
   "execution_count": null,
   "metadata": {},
   "outputs": [],
   "source": [
    "%matplotlib notebook \n",
    "# and plot f\n",
    "plot2D(x, y, U_grid, title=r\"$u(x,y)$ solved\")\n"
   ]
  },
  {
   "cell_type": "markdown",
   "metadata": {},
   "source": [
    "#### Task 4\n",
    "Use the method of manufactured solution together with the given analytical reference solution $u_{ex}$ to compute the experimental order of convergence (EOC)\n",
    "for $N = 16, 32, 64$ using $\\max_{i} |U-u|$ as error measure. Summarize your results in a table. \n",
    "What convergence rate do you get? If you don't get an EOC very close to $2$, find the bugs in your code :)"
   ]
  },
  {
   "cell_type": "code",
   "execution_count": null,
   "metadata": {
    "scrolled": false
   },
   "outputs": [],
   "source": [
    "def numerical_poisson(u_func, n, plot=False):\n",
    "    \"\"\"\n",
    "    Function solving a numerical system for a given n and a given true u.\n",
    "    For testing errors with different n for manufactured solutions.\n",
    "    \"\"\"\n",
    "    \n",
    "    x, y = np.ogrid[0:1:(n+1)*1j, 0:1:(n+1)*1j]\n",
    "    \n",
    "    if plot:\n",
    "        plot2D(x, y, u_func(x, y), \"$u(x, y)$\")\n",
    "    \n",
    "    f = lambda x, y: laplace_u(u_func, x, y)\n",
    "    g = u_func\n",
    "    \n",
    "    U_ex_grid = u_ex(x, y)\n",
    "    F_grid = f(x, y).ravel()\n",
    "    G_grid = g(x, y).ravel()\n",
    "    U_solved = U_grid = solve_system(n, I, F_grid, G_grid)\n",
    "    if plot:\n",
    "        plot2D(x, y, U_solved, \"Solved\")\n",
    "    return U_ex_grid, U_solved\n",
    "\n",
    "\n",
    "def u(x, y, pck=np):\n",
    "    return pck.sin(1 * pck.pi * x) * pck.sin(2 * pck.pi * y)\n",
    "\n",
    "\n",
    "ns = [16, 32, 64]\n",
    "errs = []\n",
    "for n in ns:\n",
    "    U_exact, U_numerical = numerical_poisson(u, n, plot=False)\n",
    "    error = np.abs(U_exact - U_numerical).max()\n",
    "    errs.append(error)\n",
    "    \n",
    "\n",
    "def eoc(i):\n",
    "    return ((np.log(errs[i]) - np.log(errs[i-1]))/((np.log(ns[i-1]))-np.log(ns[i]))) # Ni = hs[i]\n",
    "\n",
    "\n",
    "#list of eoc values\n",
    "eoc_list = []\n",
    "\n",
    "# Compute EOC.\n",
    "for i in range(1,len(ns)):\n",
    "    eoc_list.append(eoc(i))\n",
    "\n",
    "#loglog plot of maximum error against N\n",
    "plt.figure()\n",
    "plt.title(\"Maximum error for each $N$\")\n",
    "plt.xlabel(\"$N$\")\n",
    "plt.ylabel(\"Error\")\n",
    "plt.loglog(ns, errs)\n",
    "plt.show()\n",
    "\n",
    "\n",
    "print(\"Experimental order of convergence:\")\n",
    "print(eoc_list)\n",
    "\n"
   ]
  },
  {
   "cell_type": "markdown",
   "metadata": {},
   "source": [
    "\\begin{array}\n",
    "{c ccc}\n",
    "n & \\max_{i} |U-u|\n",
    "\\\\\n",
    "\\hline\n",
    "16 & 0.010989\n",
    "\\\\\n",
    "32 & 0.002734\n",
    "\\\\\n",
    "64 & 0.000682\n",
    "\\end{array}\n",
    "\n",
    "We see the EOC printed above is very close to two, so the convergence rate is 2. See explanation in part 1, chapter 1, task 3."
   ]
  },
  {
   "cell_type": "markdown",
   "metadata": {},
   "source": [
    "####  Task 5 \n",
    "Test how large you can chose the resolution $n$ until either the problem takes too long (say 5 minutes) to compute or uses too much memory. \n",
    "\n",
    "Can you explain why the problem\n",
    "scales so badly with respect to number of unknowns $N = (n+1)^2$? "
   ]
  },
  {
   "cell_type": "markdown",
   "metadata": {
    "collapsed": true
   },
   "source": [
    "<font color = \"blue\">\n",
    "Solution:"
   ]
  },
  {
   "cell_type": "markdown",
   "metadata": {},
   "source": [
    "Our $A$ matrix har dimention ${((n+1)^2)}^2 = (n+1)^4$. This means that when $n$ grows, the number of points stored in $A$ grows with a factor $n^4$. This alone will make the runtime large quite fast for growing $n$. \n",
    "\n",
    "However even more importantly the number of operations needed to solve a linear systen of dimention m is aproximatly $m^3$. For our matrix A this results in $(n+1)^6$ operations. Meaning it we choose $n=9$ we would get $1000000$ operations. This will rapidly result in very long runtimes. \n",
    "\n",
    "When testing we for $n= 160$ we get a runtime of more that five minutes.\n"
   ]
  },
  {
   "cell_type": "markdown",
   "metadata": {},
   "source": [
    "The problem scales badly because a lot of memory is used to store zero values. Also the process of solving takes a lot of time since it has to compute all the operations even though a lot of them are zero. "
   ]
  },
  {
   "cell_type": "markdown",
   "metadata": {},
   "source": [
    "#### Task 6 \n",
    "\n",
    "Based on your implementation above, we now implement an improved finite difference solver  using __sparse matrices__. Sparse matrices only store the\n",
    "non-zero elements of a matrix. Note that the number of non-zero elements in\n",
    "the finite difference matrix scales like $N$ and not like $N^2$ like __full matrices__.\n",
    "\n",
    "Knowing the structure and entries of the matrix a priori, the most efficient \n",
    "realization would be based on (block) tridiagonal sparse matrices. \n",
    "But to allow for minimal adjustments of your previous solver implementation, we simply switch to a flexible sparse matrix format \n",
    "\n",
    "To this end you have change only 3 lines of code and incorporate the following code snippets into your previous code. For comparision you may want to define\n",
    "a separate function ```fdm_poisson_2d_matrix_sparse(n, I)```."
   ]
  },
  {
   "cell_type": "code",
   "execution_count": null,
   "metadata": {
    "collapsed": true
   },
   "outputs": [],
   "source": [
    "\n",
    "def fdm_poisson_2d_matrix_sparse(n, I):\n",
    "    # Grid size\n",
    "    h = 1.0 / n\n",
    "\n",
    "    # Total number of unknowns is N = (n+1)*(n+1)\n",
    "    N = (n + 1) ** 2\n",
    "\n",
    "    # Define zero matrix A of right size and insert 0\n",
    "    A = sp.dok_matrix((N, N))\n",
    "\n",
    "    # Define FD entries of A\n",
    "    hh = h * h\n",
    "    for j in range(1, n):\n",
    "        for i in range(1, n):\n",
    "            A[I(i, j, n), I(i, j, n)] = 4 / hh  # U_ij, center\n",
    "            A[I(i, j, n), I(i - 1, j, n)] = -1 / hh  # U_{i-1,j}, left\n",
    "            A[I(i, j, n), I(i + 1, j, n)] = -1 / hh  # U_{i+1,j}, right\n",
    "            A[I(i, j, n), I(i, j - 1, n)] = -1 / hh  # U_{i,j-1}, under\n",
    "            A[I(i, j, n), I(i, j + 1, n)] = -1 / hh  # U_{i,j+1}, over\n",
    "\n",
    "    # Incorporate boundary conditions\n",
    "    # Add points to grid related to boundary values on the bottom and on the top.\n",
    "    for j in [0, n]:\n",
    "        for i in range(0, n + 1):\n",
    "            # print(\"indeks\", I(i, j, n))\n",
    "            A[I(i, j, n), I(i, j, n)] = 1\n",
    "\n",
    "    # Add boundary values related to unknowns from the first and last grid COLUMN\n",
    "    for i in [0, n]:\n",
    "        for j in range(0, n + 1):\n",
    "            # print(\"ind\", I(i, j, n))\n",
    "            A[I(i, j, n), I(i, j, n)] = 1\n",
    "    A_csr = A.tocsr() \n",
    "    return A_csr"
   ]
  },
  {
   "cell_type": "code",
   "execution_count": null,
   "metadata": {
    "collapsed": true
   },
   "outputs": [],
   "source": [
    "%%timeit\n",
    "import scipy.sparse as sp\n",
    "from scipy.sparse.linalg import spsolve\n",
    "\n",
    "def solve_system_sparse(n, I, F, G):\n",
    "    # Compute the FDM matrix\n",
    "    A_sparse = fdm_poisson_2d_matrix_sparse(n, I)\n",
    "    \n",
    "    # Apply bcs\n",
    "    F = apply_bcs(F, G, n, I)\n",
    "\n",
    "    # Solve\n",
    "   \n",
    "    #U = la.solve(A, F)\n",
    "    U = spsolve(A_sparse, F)\n",
    "\n",
    "    # Make U into a grid function for plotting\n",
    "    U_grid = U.reshape((n + 1, n + 1))\n",
    "    return U_grid\n",
    "\n",
    "U_grid_sparse = solve_system_sparse(n, I, F, G)\n",
    "\n"
   ]
  },
  {
   "cell_type": "code",
   "execution_count": null,
   "metadata": {
    "collapsed": true
   },
   "outputs": [],
   "source": [
    "%matplotlib notebook \n",
    "# and plot f\n",
    "plot2D(x, y, U_grid_sparse, title=r\"$u(x,y)$ solved\")"
   ]
  },
  {
   "cell_type": "markdown",
   "metadata": {},
   "source": [
    "#### Task 7 \n",
    "\n",
    "Measure and compare the overall solution time for your two implementations 'fdm_poisson_2d_dense' and 'fdm_poisson_2d_sparse' by using the cell magic command %%timeit.\n"
   ]
  },
  {
   "cell_type": "markdown",
   "metadata": {},
   "source": [
    "n = 100 \n",
    "\n",
    "Results from the dense funciton:\n",
    "14.7 s ± 731 ms per loop (mean ± std. dev. of 7 runs, 1 loop each)\n",
    "\n",
    "Results from the sparse function:\n",
    "552 ms ± 91.1 ms per loop (mean ± std. dev. of 7 runs, 1 loop each)\n",
    "\n",
    "As one can clearly see the dense function is a lot slower! \n"
   ]
  }
 ],
 "metadata": {
  "kernelspec": {
   "display_name": "Python 3",
   "language": "python",
   "name": "python3"
  },
  "language_info": {
   "codemirror_mode": {
    "name": "ipython",
    "version": 3
   },
   "file_extension": ".py",
   "mimetype": "text/x-python",
   "name": "python",
   "nbconvert_exporter": "python",
   "pygments_lexer": "ipython3",
   "version": "3.6.3"
  }
 },
 "nbformat": 4,
 "nbformat_minor": 4
}
