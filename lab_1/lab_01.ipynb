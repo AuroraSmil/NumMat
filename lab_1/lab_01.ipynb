{
 "cells": [
  {
   "cell_type": "markdown",
   "metadata": {},
   "source": [
    "# Homework 1: Linear Systems Part I"
   ]
  },
  {
   "cell_type": "markdown",
   "metadata": {},
   "source": [
    "## General Instructions\n",
    " \n",
    "* To pass this assignment requires to complete the present Jupyter notebook by\n",
    "    + providing correct answers to all the theoretical exercises, and by\n",
    "    + providing complete and runnable computer code producing the correct results to all the computational problems.\n",
    "\n",
    "* For the theoretical exercises, please include intermediate steps to\n",
    "  explain how you arrive at your solution.\n",
    "* Don't overengineer your code, keep it as simple and readable as possible   and provide short code comments to help other people understanding your     code.\n",
    "* Please provide also a short summary and discussion of your results \n",
    "  including the requested output (e.g., tables, graphs etc.).\n",
    "\n",
    "* Up to 3 students can jointly submit the solutions (4 students if at\n",
    "  least one is an exchange student) **Only 1 student from each group** \n",
    "  is supposed to submit them.  \n",
    "\n",
    "##### Deadline for submission of your solutions is **5th of September**.\n",
    "\n",
    "\n",
    "###  Happy coding!"
   ]
  },
  {
   "cell_type": "markdown",
   "metadata": {},
   "source": [
    "**And before we start:**\n",
    "\n",
    "Executing the following cell loads a non-default css style for the notebook. \n",
    "Make sure that you download the corresponding css file  `tmas4215.css` from the `lab/styles` Blackbord folder. Note that the following code snippet assumes that the file resides inside the folder `../styles/` relative to the folder where you stored this notebook on you computer."
   ]
  },
  {
   "cell_type": "code",
   "execution_count": null,
   "metadata": {},
   "outputs": [],
   "source": [
    "from IPython.core.display import HTML\n",
    "def css_styling():\n",
    "    styles = open(\"../styles/tma4215.css\", \"r\").read()\n",
    "    return HTML(styles)\n",
    "\n",
    "# Comment out next line and execute this cell to restore the default notebook style \n",
    "css_styling()"
   ]
  },
  {
   "cell_type": "markdown",
   "metadata": {},
   "source": [
    "### Useful code snippets\n",
    "\n",
    "We provide a few of code snippets to get you\n",
    "started in Python. Three dots $\\ldots$ indicate places where you have\n",
    "to fill in code. We start with importing the necessary scientific libraries\n",
    "and define a name alias for them."
   ]
  },
  {
   "cell_type": "code",
   "execution_count": null,
   "metadata": {
    "collapsed": true,
    "jupyter": {
     "outputs_hidden": true
    }
   },
   "outputs": [],
   "source": [
    "# Arrary and stuff \n",
    "import numpy as np\n",
    "# Linear algebra solvers from scipy\n",
    "import scipy.linalg as la\n",
    "# Basic plotting routines from the matplotlib library \n",
    "import matplotlib.pyplot as plt"
   ]
  },
  {
   "cell_type": "markdown",
   "metadata": {},
   "source": [
    "## Problem 1\n",
    "Provide a complete proof of Theorem 2 from Lecture 2,\n",
    "following the outline provided there. "
   ]
  },
  {
   "cell_type": "markdown",
   "metadata": {},
   "source": [
    "**Theorem 2:** Let $A \\in \\mathbb{R}^{n,n}$ with $n \\geq2$ and assume that every leading principal submatrix of order $k$ with $1 \\leq k \\leq n-1 $ is invertible. Then $A$ admits a $LU$ factorization, where $L$ is unit lower triangular of order $n$, and $R$ is upper triangular of order $n$.\n",
    "\n",
    "**Proof by induction** \n",
    "\n",
    "*Base case*: First we will show the theorem for the base case $n = 2$. Let $A^{(2)} = L^{(2)}U^{(2)}$.\n",
    "\n",
    "$$\n",
    "\\begin{pmatrix} \n",
    "a & b \\\\\n",
    "c & d \n",
    "\\end{pmatrix} = \n",
    "\\begin{pmatrix} \n",
    "1 & 0 \\\\\n",
    "m & 1 \n",
    "\\end{pmatrix}\n",
    "\\begin{pmatrix} \n",
    "u & v \\\\\n",
    "0 & \\eta\n",
    "\\end{pmatrix} =\n",
    "\\begin{pmatrix} \n",
    "u & v \\\\\n",
    "mu & mv + \\eta\n",
    "\\end{pmatrix}\n",
    "$$\n",
    "\n",
    "This gives the four equations $u = a, v = b, m = c/u = c/a$ and $\\eta = d - mv = d - c$. So we see the $LU$-factorization exists when $n = 2$.\n",
    "\n",
    "*Inductive step*\n",
    "Now assume the theorem holds for all matrices of order $k$, $2 \\leq k \\leq n$, and suppose that $A\\in \\mathbb{R}^{n+1, n+1}$. Now write $A, L$ and $U$ as block matrices:\n",
    "\n",
    "$$\n",
    "A= \n",
    "\\begin{pmatrix} \n",
    "A^{(n)} & \\mathbf{b} \\\\\n",
    "\\mathbf{c}^T & d \n",
    "\\end{pmatrix}, \\quad\n",
    "L = \n",
    "\\begin{pmatrix} \n",
    "L^{(n)} & \\mathbf{0} \\\\\n",
    "\\mathbf{m}^T & 1 \n",
    "\\end{pmatrix}, \\quad\n",
    "L = \n",
    "\\begin{pmatrix} \n",
    "U^{(n)} & \\mathbf{v} \\\\\n",
    "\\mathbf{0}^T & \\eta \n",
    "\\end{pmatrix}\n",
    "$$\n",
    "\n",
    "Then we can write out the product $A=LU$:\n",
    "\n",
    "$$\n",
    "A= \n",
    "\\begin{pmatrix} \n",
    "L^{(n)}U^{(n)} & L^{(n)}\\mathbf{v} \\\\\n",
    "\\mathbf{m}^T U^{(n)} & \\mathbf{m}^T \\mathbf{v} + \\eta\n",
    "\\end{pmatrix}, \\quad\n",
    "$$\n",
    "\n",
    "This gives the four equations:\n",
    "\n",
    "$$\n",
    "A^{(n)} = L^{(n)}U^{(n)} \\\\\n",
    "L^{(n)}\\mathbf{v} = \\mathbf{b} \\\\\n",
    "U^{(n)T} \\mathbf{m} = \\mathbf{c} \\\\\n",
    "\\mathbf{m}^T \\mathbf{v} + \\eta = d \\\\\n",
    "$$\n",
    "\n",
    "We know by the assumptions of the theorem that $A^{(n)}$ is invertible. Then we know that $\\det(A^{(n)}) \\neq 0$ by the invertible matrix theorem. Since $\\det(A^{(n)}) = \\det(L^{(n)}U^{(n)}) = \\det(L^{(n)})\\det(U^{(n)}) \\neq 0$, both $\\det(L^{(n)})$ and $\\det(U^{(n)})$ is also have to be different from zero, and hence both invertible matrices"
   ]
  },
  {
   "cell_type": "markdown",
   "metadata": {},
   "source": [
    "## Problem 2"
   ]
  },
  {
   "cell_type": "markdown",
   "metadata": {},
   "source": [
    "Given matrix $A \\in \\mathbb{R}^{n,n}$ and $\\boldsymbol{b} \\in \\mathbb{R}^n$,\n",
    "the goal of this problem set is to compute the solution $\\boldsymbol{x}$\n",
    "to the linear system $A \\boldsymbol{x} = \\boldsymbol{b}$ numerically\n",
    "by implementing the algorithms $A = LU$ factorization (whenever possible), and the backward and forward substitution steps in ```Python```.\n",
    "\n",
    "As a preliminary step, please make sure that you have import ```numpy```  as ```np``` by executing the cell right under \"Useful code snippets\"."
   ]
  },
  {
   "cell_type": "markdown",
   "metadata": {},
   "source": [
    "**a)** Implement a ```Python``` function ```forward_sub```:"
   ]
  },
  {
   "cell_type": "code",
   "execution_count": null,
   "metadata": {
    "collapsed": true
   },
   "outputs": [],
   "source": [
    "def forward_sub(L, b):\n",
    "    n = len(b)\n",
    "    y=np.zeros(n)\n",
    "    for i in range(n):\n",
    "        y_temp = b[i]\n",
    "        for j in range(i):\n",
    "            y_temp-= L[i][j]*y[j]\n",
    "\n",
    "        y[i] =y_temp\n",
    "    return y\n"
   ]
  },
  {
   "cell_type": "markdown",
   "metadata": {},
   "source": [
    "**b)** Next, implement a ```Python``` function ```backward_sub```:"
   ]
  },
  {
   "cell_type": "code",
   "execution_count": null,
   "metadata": {
    "collapsed": true
   },
   "outputs": [],
   "source": [
    "\n",
    "def backward_sub(U, y):\n",
    "\n",
    "    # ...\n",
    "    n = len(y)\n",
    "    x = np.zeros(n)\n",
    "    for i in range(n):\n",
    "        x_temp = y[n-i-1]\n",
    "\n",
    "        for j in range(i):\n",
    "            x_temp -= U[n - i-1][n - j - 1] * x[n - j-1]\n",
    "        x_temp =x_temp / U[n - i-1][n - i-1]\n",
    "        x[n - i - 1] = x_temp\n",
    "\n",
    "\n",
    "    return x"
   ]
  },
  {
   "cell_type": "markdown",
   "metadata": {},
   "source": [
    "**c)** Now, implement a Python function which computes for a given matrix $A \\boldsymbol{R}^{n,n}$ the $LU$ factorization of $A = LU$ ((if possible).\n",
    "You can either base your implemenentation on the Banachiewicz or Crout method (explain in Lecture 3) or any method\n",
    "you might dig up from the literature.\n",
    "If you want, you can take some inspiration from the reference **YEB**, Chapter 3.3, see Program 4, 5, 6.\n",
    "\n",
    "If the factorization fails without permutating $A$, you should at least be so kind\n",
    "and raise an ```Exception```, see [Python 3 tutorial, 8. Errors and Exceptions](\n",
    "https://docs.python.org/3/tutorial/errors.html#errors-and-exceptions).\n",
    "More specifically, you can simply raise an [NotImplementedError](https://docs.python.org/3/library/exceptions.html#NotImplementedError) exception.\n",
    "\n",
    "Of course, you can also implement the full $PA = LU$ decomposition if you don't want to throw Exceptions around :)."
   ]
  },
  {
   "cell_type": "code",
   "execution_count": null,
   "metadata": {
    "collapsed": true
   },
   "outputs": [],
   "source": [
    "def lu_factor(A):\n",
    "    n = len(A)\n",
    "    L = np.identity(n)\n",
    "    U = np.zeros(A.shape)\n",
    "\n",
    "\n",
    "    for i in range(n):\n",
    "        if A[i, i] == 0:\n",
    "            raise Exception(\"Null pivot element\")\n",
    "        for j in range(i):\n",
    "            L[i][j] = (1/(U[j][j]))*(A[i][j])\n",
    "            for k in range(j):\n",
    "                L[i][j] -= L[i][k]*U[k][j]/U[j][j]\n",
    "\n",
    "        for j in range(i,n):\n",
    "            U[i][j] = A[i][j]\n",
    "            for k in range(i):\n",
    "                U[i][j] -= L[i][k]*U[k][j]\n",
    "\n",
    "    return L,U\n"
   ]
  },
  {
   "cell_type": "markdown",
   "metadata": {},
   "source": [
    "**d)** Next, combine the Python functions you just implemented in a)-b) to provide\n",
    "solver for the linear system $A \\boldsymbol{x} = \\boldsymbol{b}$ based on\n",
    "a given $A = LU$ factorization. "
   ]
  },
  {
   "cell_type": "code",
   "execution_count": null,
   "metadata": {
    "collapsed": true
   },
   "outputs": [],
   "source": [
    "def lu_solve(L, U, b):\n",
    "   \n",
    "    y = forward_sub(L,b)\n",
    "    x = backward_sub(U, y)\n",
    "    \n",
    "    return x"
   ]
  },
  {
   "cell_type": "markdown",
   "metadata": {},
   "source": [
    "**e)** Finally, write a ```linear_solve``` function  by simply combining your ```lu_factor``` and ```lu_solve```. "
   ]
  },
  {
   "cell_type": "code",
   "execution_count": null,
   "metadata": {},
   "outputs": [],
   "source": [
    "def linear_solve(A, b):\n",
    "    L, U = lu_factor(A)\n",
    "    x = lu_solve(L, U, b)\n",
    "    return x\n",
    "\n",
    "\"\"\"\n",
    "\n",
    "A = np.array([[19, 13,  6, 9, 16],\n",
    " [ 2, 18,  1,  1,  8],\n",
    " [12, 17, 12, 10,  6],\n",
    " [ 5,  4,  6, 18, 11],\n",
    " [16,  7,  1, 17,  4]])\n",
    "x = np.array([1,1,1,1,1])\n",
    "\n",
    "b = np.matmul(A,x)\n",
    "print(b)\n",
    "\n",
    "L,U = lu_factor(A)\n",
    "print(L)\n",
    "print(U)\n",
    "print(L@U)\n",
    "print(linear_solve(A,b))\n",
    "\"\"\""
   ]
  },
  {
   "cell_type": "markdown",
   "metadata": {},
   "source": [
    "**f)** Use you brand new `linear_solve` function to compute the solution to a non-trivial linear system. Here non-trivial means that $n > 4$ :) and a non-zero right-hand side $\\boldsymbol{b}$.\n",
    "\n",
    "*Hint*: To check whether your code computes the \"exact\" result, you can use the \n",
    "method of **manufactured solution**. In the case of linear systems $A \\boldsymbol{x} = \\boldsymbol{b}$ this means that for **given/chosen** matrix $A$ and solution vector $\\boldsymbol{x}$, you simply compute the resulting right-hand side vector \n",
    "$\\boldsymbol{b} = A \\boldsymbol{x}$ to construct an example where you know the solution.\n",
    "When you now solve $A\\boldsymbol{x} = \\boldsymbol{b}$ starting from $A$, $\\boldsymbol{b}$, your implementation should return the correct $\\boldsymbol{x}$."
   ]
  },
  {
   "cell_type": "markdown",
   "metadata": {},
   "source": [
    "## Problem 3\n",
    "\n",
    "The objective of this problem set is two-fold. First, we will have an actual look \n",
    "at the complexity of the linear solver you implemented in the previous problem.\n",
    "Second, we want to illustrate that the finite precision of real numbers\n",
    "can matter very much in actual computations.\n",
    "\n",
    "We start by introducing the **Hilbert Matrix** $H_n$ of order $n$ by\n",
    "$$ \n",
    "(H_n)_{ij} = \\dfrac{1}{i+j-1} \\quad \\text{for } 1 \\leqslant i,j \\leqslant n.\n",
    "$$\n",
    "\n",
    "\n",
    "The Hilbert matrix is readily available in the ```scipy.linalg``` module, so you simply\n",
    "type, e.g\n",
    "\n",
    "```python\n",
    "n = 3\n",
    "A = la.hilbert(n)\n",
    "```\n",
    "Recall that we imported the ```linalg``` module and renamed it to ```la``` via the\n",
    "```python \n",
    "import scipy.linalg as la\n",
    "``` \n",
    "line at the beginning of this notebook."
   ]
  },
  {
   "cell_type": "markdown",
   "metadata": {},
   "source": [
    "**a)** \n",
    "Define the trivial righ-hand side $\\boldsymbol{b} = \\boldsymbol{0}$\n",
    "and measure the executation time for the various step in your linear_solver.\n",
    "To do so you can use ```%timeit``` and ```%%timeit``` magic functions in IPython,\n",
    "see [corresponding documentation](https://ipython.readthedocs.io/en/stable/interactive/magics.html#magic-timeit).\n",
    "\n",
    "In a nutshell, ```%%timeit``` measures the executation time of an entire cell, while ```%timeit```\n",
    "only measures only the executation time of a single line, e.g. as in\n",
    "\n",
    "```python\n",
    "%timeit my_function()\n",
    "```\n",
    "\n",
    "Note that the latter might not play well with functions returning arguments.\n",
    "To this end, you can simply (re)write a linear solver in  3 lines (1 line per cell)\n",
    "starting from calling your  ```lu_factor``` function and\n",
    "copy-pasting the lines from Step 1 to Step 2 in the ```linear_solve()``` function.\n",
    "Then use the ```%%timeit``` to measure the executation time of each cell.\n",
    "\n",
    "To get accurate timeing results, ```timeit``` automatically runs the same code multiple\n",
    "times in  a loop, and repeats that measurement a number of times.\n",
    "The actual number of loops and repeats is selected automatically and will be printed out at the end. They can also be manually adjusted by using\n",
    "\n",
    "```\n",
    "%%timeit -n<number_of_loops> -r<number_of_repeats>\n",
    "```\n",
    "\n",
    "\n",
    "Now for $n = 500, 1000, 2000, 4000$, measure the executation time for each step in the linear solve\n",
    "(factorizing, forward and backward substitution) and plot\n",
    "the execution time $t$ against the number of unknowns $n$ in a $\\log$-$\\log$ plot,\n",
    "that is, $\\log(t)$ against $\\log(n)$.\n",
    "(Matplotlib has specific functions for log-log plotting)"
   ]
  },
  {
   "cell_type": "code",
   "execution_count": null,
   "metadata": {
    "collapsed": true
   },
   "outputs": [],
   "source": [
    "n = 500\n",
    "A = la.hilbert(n)\n",
    "\n",
    "b = np.zeros(n)"
   ]
  },
  {
   "cell_type": "code",
   "execution_count": null,
   "metadata": {
    "collapsed": true
   },
   "outputs": [],
   "source": [
    "%%timeit -n10 -r1\n",
    "L, U = lu_factor(A)"
   ]
  },
  {
   "cell_type": "code",
   "execution_count": null,
   "metadata": {
    "collapsed": true
   },
   "outputs": [],
   "source": [
    "L, U = lu_factor(A)"
   ]
  },
  {
   "cell_type": "code",
   "execution_count": null,
   "metadata": {
    "collapsed": true
   },
   "outputs": [],
   "source": [
    "%%timeit\n",
    "y = forward_sub(L, b)"
   ]
  },
  {
   "cell_type": "code",
   "execution_count": null,
   "metadata": {
    "collapsed": true
   },
   "outputs": [],
   "source": [
    "y = forward_sub(L, b)"
   ]
  },
  {
   "cell_type": "code",
   "execution_count": null,
   "metadata": {
    "collapsed": true
   },
   "outputs": [],
   "source": [
    "%%timeit\n",
    "x = backward_sub(U, y)"
   ]
  },
  {
   "cell_type": "code",
   "execution_count": null,
   "metadata": {},
   "outputs": [],
   "source": [
    "n = [500, 1000, 2000, 4000]\n",
    "t_factor = [40.2, 334, 2680, 21790]\n",
    "t_forward = [0.044, 0.183, 0.739, 2.95]\n",
    "t_backward = [0.0593, 0.256, 1.05, 4.18]\n",
    "\n",
    "plt.figure()\n",
    "plt.plot(n, t_factor, \"ro\", label=\"Factorizing\")\n",
    "plt.plot(n, t_forward, \"bo\", label=\"Forward\")\n",
    "plt.plot(n, t_backward, \"go\", label=\"Backward\")\n",
    "plt.yscale(\"log\")\n",
    "plt.xscale(\"log\")\n",
    "plt.ylabel(\"Time (t)\")\n",
    "plt.xlabel(\"Unknowns (n)\")\n",
    "plt.legend()\n",
    "plt.show()"
   ]
  },
  {
   "cell_type": "markdown",
   "metadata": {},
   "source": [
    "**b)** Next, define a non-trivial vector $\\boldsymbol{b}$ by\n",
    "$$\n",
    "b_i = \\sum_{j=1}^n (j/(i+j-1)) \n",
    "$$\n",
    "so that the **exact solution** to the lineary system $H_n \\boldsymbol{x} = \\boldsymbol{b}$ is\n",
    "the vector $\\boldsymbol{x}_{\\mathrm{ex}}$  with elements $x_{\\mathrm{ex},i} = i$.\n",
    "Now solve the system using your ```linear_solve``` function for $n = 2, 4, 8, 16$, print the computed solution vector $\\boldsymbol{x}_{\\mathrm{comp}}$ and compare it with $\\boldsymbol{x}_{\\mathrm{ex}}$. In particular compute \n",
    "\n",
    "$$\\|\\boldsymbol{x}_{\\mathrm{ex}}-\\boldsymbol{x}_{\\mathrm{comp}}\\|_2.$$\n",
    "\n",
    "What do you observe? Can you explain your observations?\n",
    "\n",
    "*Hint*: It can be shown that the condition number $\\kappa_2(H_n)$ scales like\n",
    "$$\n",
    "\\kappa_2(H_n) \\sim \\dfrac{\\left(\\sqrt{2}+1\\right)^{4n+4}}{2^{15/4}\\sqrt{\\pi n}}\n",
    "\\text{as } n \\to  \\infty.\n",
    "$$\n",
    "\n",
    "Tabulate the approximate values of $\\kappa_2(H_n)$ for $n = 2, 4, 8, 16$.\n",
    "\n",
    "This exercise was heavily inspired by Section 2.8 in **BLUB**."
   ]
  },
  {
   "cell_type": "code",
   "execution_count": null,
   "metadata": {},
   "outputs": [],
   "source": [
    "def b(n):\n",
    "    b = np.zeros(n)\n",
    "    for i in range(1, n + 1):\n",
    "        sum = 0\n",
    "        for j in range(1, n + 1):\n",
    "            sum += j/(i+j-1)\n",
    "        b[i-1] = sum\n",
    "    return b"
   ]
  },
  {
   "cell_type": "code",
   "execution_count": null,
   "metadata": {},
   "outputs": [],
   "source": [
    "n = 8\n",
    "\n",
    "def x_comp(n):\n",
    "    Hn = la.hilbert(n)\n",
    "    bn = b(n)\n",
    "    return linear_solve(Hn, bn)\n",
    "\n",
    "def x_ex(n):\n",
    "    x_ex = np.zeros(n)\n",
    "    for i in range(n):\n",
    "        x_ex[i] = i + 1\n",
    "    return x_ex\n",
    "\n",
    "print(x_comp(n))\n",
    "print(x_ex(n))\n",
    "print(x_ex(n) - x_comp(n))"
   ]
  },
  {
   "cell_type": "code",
   "execution_count": null,
   "metadata": {},
   "outputs": [],
   "source": [
    "diff = np.linalg.norm(x_ex(n) - x_comp(n), 2)\n",
    "print(diff)"
   ]
  },
  {
   "cell_type": "code",
   "execution_count": null,
   "metadata": {},
   "outputs": [],
   "source": [
    "def k_2(H):\n",
    "    n = len(H)\n",
    "    return ((np.sqrt(2) + 1)**(4*n + 4)) / (2**(15/4) * np.sqrt(np.pi * n))\n",
    "\n",
    "\n",
    "n_array = [2, 4, 8, 16]\n",
    "k2 = np.zeros(4)\n",
    "diff = np.zeros(4)\n",
    "for i in range(4):\n",
    "    k2[i] = k_2(la.hilbert(n_array[i])) * 10**-16\n",
    "    diff[i] = np.linalg.norm(x_ex(n_array[i]) - x_comp(n_array[i]), 2)\n",
    "\n",
    "print(k2)\n",
    "print(k2/10**-16)\n",
    "\n",
    "plt.figure()\n",
    "plt.plot(n_array, k2, \"ro\", label=\"Scaled condition number\")\n",
    "plt.plot(n_array, diff, \"bo\", label=\"Calculated error\")\n",
    "plt.yscale(\"log\")\n",
    "plt.xlim(0, 20)\n",
    "plt.legend(loc=2)\n",
    "plt.show()"
   ]
  },
  {
   "cell_type": "markdown",
   "metadata": {},
   "source": [
    "As one can see in figure above, the difference between observed and exact solution grows a lot when $n$ gets larger. This can be explained by the growth in the conditioning number for the same $n$. As one can see $K_2 (H_2) = 1.16 \\cdot 10^3$ mening the resulting error will be smaler than $1.16 *10^{ -13}$ For $ n= 16$ the conditioning number is much larger $K_2 (H_{16}) = 1.12 \\cdot 10^{24}$ Scaling with the standard machine error this gives a potential error of $1.12 *10^8$ This explains why the error for $n= 16$ is so much larger than for smaller $n$"
   ]
  },
  {
   "cell_type": "code",
   "execution_count": null,
   "metadata": {
    "collapsed": true
   },
   "outputs": [],
   "source": []
  }
 ],
 "metadata": {
  "anaconda-cloud": {},
  "kernelspec": {
   "display_name": "Python 3",
   "language": "python",
   "name": "python3"
  },
  "language_info": {
   "codemirror_mode": {
    "name": "ipython",
    "version": 3
   },
   "file_extension": ".py",
   "mimetype": "text/x-python",
   "name": "python",
   "nbconvert_exporter": "python",
   "pygments_lexer": "ipython3",
   "version": "3.5.2"
  }
 },
 "nbformat": 4,
 "nbformat_minor": 4
}
